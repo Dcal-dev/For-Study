{
  "nbformat": 4,
  "nbformat_minor": 0,
  "metadata": {
    "colab": {
      "name": "For Study Dynamics.ipynb",
      "provenance": [],
      "collapsed_sections": [],
      "toc_visible": true,
      "include_colab_link": true
    },
    "kernelspec": {
      "name": "python3",
      "display_name": "Python 3"
    }
  },
  "cells": [
    {
      "cell_type": "markdown",
      "metadata": {
        "id": "view-in-github",
        "colab_type": "text"
      },
      "source": [
        "<a href=\"https://colab.research.google.com/github/Dcal-dev/For-Study/blob/master/For_Study_Dynamics.ipynb\" target=\"_parent\"><img src=\"https://colab.research.google.com/assets/colab-badge.svg\" alt=\"Open In Colab\"/></a>"
      ]
    },
    {
      "cell_type": "markdown",
      "metadata": {
        "id": "6p8S466pvpp6",
        "colab_type": "text"
      },
      "source": [
        ""
      ]
    },
    {
      "cell_type": "markdown",
      "metadata": {
        "id": "2CCXoxzcvqur",
        "colab_type": "text"
      },
      "source": [
        "# 프로그램을 공부하려고 처음 만들어본 COLAB\n",
        "\n",
        "---\n",
        "\n",
        "시작일 19.11.23\n",
        "\n",
        "---\n",
        "\n",
        "\n",
        "\n",
        "\n",
        "\n",
        "\n"
      ]
    },
    {
      "cell_type": "markdown",
      "metadata": {
        "id": "ClN3g1F7wpAq",
        "colab_type": "text"
      },
      "source": [
        "시작은 간단한거 부터"
      ]
    },
    {
      "cell_type": "code",
      "metadata": {
        "id": "HXupZSmvxRHP",
        "colab_type": "code",
        "outputId": "fba836de-31af-412e-b8db-7113c30c3cc2",
        "colab": {
          "base_uri": "https://localhost:8080/",
          "height": 53
        }
      },
      "source": [
        "print(\"hello python\")\n",
        "print(\"Hello\",end=' ')\n",
        "print(\"alph\")"
      ],
      "execution_count": 0,
      "outputs": [
        {
          "output_type": "stream",
          "text": [
            "hello python\n",
            "Hello alph\n"
          ],
          "name": "stdout"
        }
      ]
    },
    {
      "cell_type": "markdown",
      "metadata": {
        "id": "riLytmKGx8ms",
        "colab_type": "text"
      },
      "source": [
        "print라는 명령어에 여러가지 옵션을 추가할수 있다.\n"
      ]
    },
    {
      "cell_type": "markdown",
      "metadata": {
        "id": "NZ7Xa_Dwu63S",
        "colab_type": "text"
      },
      "source": [
        "#RETARDING FORCE \n",
        "___\n",
        "도전 : 19.11.24 23:06\n",
        "___\n",
        "cf: [Matplotlib Tutorial 16 - Live graphs](https://www.youtube.com/watch?v=ZmYPzESC5YY)\n",
        "\n",
        "cf: [Model Your World with the GlowScript Trinket](https://trinket.io/glowscript/1e541a5795) : 대충 이런 형태가 목표\n",
        "\n",
        "참고 서적 : Classical Dynamics of partivels and systems (MARION) (p.58~71)\n",
        "* retarding force는 kmv로만 적용한다.\n"
      ]
    },
    {
      "cell_type": "markdown",
      "metadata": {
        "id": "pTAOnXoXLHWa",
        "colab_type": "text"
      },
      "source": [
        "*주의! 같은 단어를 사용하게 된다면 colab에서는 한단어로 인식해주기 때문에 초기화하는 작업이 필요함"
      ]
    },
    {
      "cell_type": "code",
      "metadata": {
        "id": "Ae3Uh-pN-5ka",
        "colab_type": "code",
        "cellView": "both",
        "outputId": "1b04c0bc-9126-4954-d5c7-ba4ddae1ed57",
        "colab": {
          "base_uri": "https://localhost:8080/",
          "height": 265
        }
      },
      "source": [
        "#@title olab.research.google.com/drive/1jtnm5la0ooS0BFRVHYEw5ZHnc3vj_JlO#scrollTo=rHXyKuL_-HFk\n",
        "import matplotlib.pyplot as plt\n",
        "from math import cos,exp\n",
        "\n",
        "#for non retarding force in 1d motion\n",
        "x0=0\n",
        "t=0\n",
        "x=0\n",
        "xarr=[]\n",
        "xarr.append(x0)\n",
        "\n",
        "tarr=[]\n",
        "tarr.append(t)\n",
        "v0=80\n",
        "dt=0.05\n",
        "dx=v0*dt\n",
        "\n",
        "while t<=100:\n",
        "  t+=dt\n",
        "  x=x+dx\n",
        "  xarr.append(x)\n",
        "  tarr.append(t)\n",
        "  \n",
        "  \n",
        "plt.plot(tarr,xarr)\n",
        "plt.show()\n",
        "\n",
        "\n"
      ],
      "execution_count": 0,
      "outputs": [
        {
          "output_type": "display_data",
          "data": {
            "image/png": "[encoded data removed]",
            "text/plain": [
              "<Figure size 432x288 with 1 Axes>"
            ]
          },
          "metadata": {
            "tags": []
          }
        }
      ]
    },
    {
      "cell_type": "code",
      "metadata": {
        "id": "LkpBU0pCLiJl",
        "colab_type": "code",
        "colab": {}
      },
      "source": [
        "class bullet:\n",
        "    def __init__(self.v0,x0,time):\n",
        "        self.v=v0\n",
        "        self.x=x0\n",
        "\n",
        "        self.t=0\n",
        "        self.dt=0.05\n",
        "        self.time=time\n",
        "        self.xarr=[self.x]\n",
        "        self.tarr=[self.t]\n",
        "    \n",
        "    def vUpdate()\n",
        "    \n"
      ],
      "execution_count": 0,
      "outputs": []
    }
  ]
}