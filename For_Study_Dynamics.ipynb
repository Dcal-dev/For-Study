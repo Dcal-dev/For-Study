{
  "nbformat": 4,
  "nbformat_minor": 0,
  "metadata": {
    "colab": {
      "name": "For Study Dynamics.ipynb",
      "provenance": [],
      "collapsed_sections": [],
      "toc_visible": true
    },
    "kernelspec": {
      "name": "python3",
      "display_name": "Python 3"
    }
  },
  "cells": [
    {
      "cell_type": "markdown",
      "metadata": {
        "id": "6p8S466pvpp6",
        "colab_type": "text"
      },
      "source": [
        ""
      ]
    },
    {
      "cell_type": "markdown",
      "metadata": {
        "id": "2CCXoxzcvqur",
        "colab_type": "text"
      },
      "source": [
        "# 프로그램을 공부하려고 처음 만들어본 COLAB\n",
        "\n",
        "---\n",
        "\n",
        "시작일 19.11.23\n",
        "\n",
        "---\n",
        "\n",
        "\n",
        "\n",
        "\n",
        "\n",
        "\n"
      ]
    },
    {
      "cell_type": "markdown",
      "metadata": {
        "id": "vDagyFRQ0XuV",
        "colab_type": "text"
      },
      "source": [
        "#프로그램의 기초 분야\n",
        "* 프론트엔드(front-end) \n",
        ">이용자의 웹브라우저에서 직접적으로 보이는 부분을 다루는 기술들 - HTML5, CSS3, 기본 JavaScript\n",
        "\n",
        "* 백엔드(back-end) \n",
        ">웹브라우저가 주고받는 데이터를 기록하고 가져오는 등의 뒷 단의 궂은 일을 처리하는 기술들\n",
        "* 데이터베이스(database) \n",
        ">백엔드가 다루는 데이터를 보관하고 검색해 오는 기술\n",
        "* 네트워크(network) \n",
        ">여러 컴퓨터 사이의 데이터 통신에 필요한 기술들\n",
        "* 에디터/툴/버전관리 시스템(tools) \n",
        ">각 주제 개발 작업에 필요한 도구들 선택과 활용\n",
        "* 기초 자료 구조(data structure) \n",
        ">프론트엔드나 백엔드 프로그래밍 모두에 쓰이는 기초 지식. 데이터를 원하는 형태로 찾기 좋게 연결하는 구조.\n",
        "* 리눅스/도커/AWS \n",
        ">백엔드와 데이터베이스를 운영할 기술과 환경\n",
        "\n",
        "\n"
      ]
    },
    {
      "cell_type": "markdown",
      "metadata": {
        "id": "ClN3g1F7wpAq",
        "colab_type": "text"
      },
      "source": [
        "시작은 간단한거 부터"
      ]
    },
    {
      "cell_type": "code",
      "metadata": {
        "id": "HXupZSmvxRHP",
        "colab_type": "code",
        "outputId": "fba836de-31af-412e-b8db-7113c30c3cc2",
        "colab": {
          "base_uri": "https://localhost:8080/",
          "height": 53
        }
      },
      "source": [
        "print(\"hello python\")\n",
        "print(\"Hello\",end=' ')\n",
        "print(\"alph\")"
      ],
      "execution_count": 0,
      "outputs": [
        {
          "output_type": "stream",
          "text": [
            "hello python\n",
            "Hello alph\n"
          ],
          "name": "stdout"
        }
      ]
    },
    {
      "cell_type": "markdown",
      "metadata": {
        "id": "riLytmKGx8ms",
        "colab_type": "text"
      },
      "source": [
        "print라는 명령어에 여러가지 옵션을 추가할수 있다.\n"
      ]
    },
    {
      "cell_type": "markdown",
      "metadata": {
        "id": "NZ7Xa_Dwu63S",
        "colab_type": "text"
      },
      "source": [
        "#RETARDING FORCE \n",
        "___\n",
        "도전 : 19.11.24 23:06\n",
        "___\n",
        "cf: [Matplotlib Tutorial 16 - Live graphs](https://www.youtube.com/watch?v=ZmYPzESC5YY)\n",
        "\n",
        "cf: [Model Your World with the GlowScript Trinket](https://trinket.io/glowscript/1e541a5795) : 대충 이런 형태가 목표\n",
        "\n",
        "참고 서적 : Classical Dynamics of partivels and systems (MARION) (p.58~71)\n",
        "* retarding force는 kmv로만 적용한다.\n"
      ]
    },
    {
      "cell_type": "markdown",
      "metadata": {
        "id": "UO4L4Srp6lqs",
        "colab_type": "text"
      },
      "source": [
        "##BULLET"
      ]
    },
    {
      "cell_type": "markdown",
      "metadata": {
        "id": "pTAOnXoXLHWa",
        "colab_type": "text"
      },
      "source": [
        "*주의! 같은 단어를 사용하게 된다면 colab에서는 한단어로 인식해주기 때문에 초기화하는 작업이 필요함"
      ]
    },
    {
      "cell_type": "code",
      "metadata": {
        "id": "Ae3Uh-pN-5ka",
        "colab_type": "code",
        "cellView": "both",
        "outputId": "1b04c0bc-9126-4954-d5c7-ba4ddae1ed57",
        "colab": {
          "base_uri": "https://localhost:8080/",
          "height": 265
        }
      },
      "source": [
        "#@title \n",
        "import matplotlib.pyplot as plt\n",
        "from math import cos,exp\n",
        "\n",
        "#for non retarding force in 1d motion\n",
        "x0=0\n",
        "t=0\n",
        "x=0\n",
        "xarr=[]\n",
        "xarr.append(x0)\n",
        "\n",
        "tarr=[]\n",
        "tarr.append(t)\n",
        "v0=80\n",
        "dt=0.05\n",
        "dx=v0*dt\n",
        "\n",
        "while t<=100:\n",
        "  t+=dt\n",
        "  x=x+dx\n",
        "  xarr.append(x)\n",
        "  tarr.append(t)\n",
        "  \n",
        "  \n",
        "plt.plot(tarr,xarr)\n",
        "plt.show()\n",
        "\n",
        "\n"
      ],
      "execution_count": 0,
      "outputs": [
        {
          "output_type": "display_data",
          "data": {
            "image/png": "[encoded data removed]",
            "text/plain": [
              "<Figure size 432x288 with 1 Axes>"
            ]
          },
          "metadata": {
            "tags": []
          }
        }
      ]
    },
    {
      "cell_type": "code",
      "metadata": {
        "id": "LkpBU0pCLiJl",
        "colab_type": "code",
        "outputId": "f2bcac06-f1aa-41a8-f046-f9666f71d30f",
        "cellView": "both",
        "colab": {
          "base_uri": "https://localhost:8080/",
          "height": 573
        }
      },
      "source": [
        "#@title retarding force 가 v에 비례할경우\n",
        "from math import exp\n",
        "from matplotlib import pyplot as plt\n",
        "\n",
        "class bullet:\n",
        "    def __init__(self,v0,x0,k,timelimit):\n",
        "        self.v=v0\n",
        "        self.v0=v0\n",
        "        self.x=x0\n",
        "        self.k=k\n",
        "\n",
        "        self.t=0\n",
        "        \n",
        "        self.time=0\n",
        "        self.timelimit=timelimit\n",
        "        self.varr=[self.v]\n",
        "        self.xarr=[self.x]\n",
        "        self.tarr=[self.t]\n",
        "\n",
        "    def updateT(self, dt):\n",
        "        self.t+=dt\n",
        "        return self.t\n",
        "\n",
        "    def updateV(self, dt):\n",
        "        self.v=self.v0*(exp(-self.k*self.updateT(dt)))\n",
        "        \n",
        "        return self.v\n",
        "\n",
        "    def updateX(self, dt):\n",
        "        self.x=self.x+self.updateV(dt)*dt\n",
        "        \n",
        "        return self.x\n",
        "\n",
        "    def step(self, dt):\n",
        "        self.xarr.append(self.updateX(dt))\n",
        "        self.time=self.time+dt\n",
        "        self.tarr.append(self.time)\n",
        "        self.varr.append(self.v)\n",
        "        return\n",
        "\n",
        "def MakeShoot(v0,x0,k,timelimit):\n",
        "    Bullet=bullet(v0,x0,k,timelimit)\n",
        "    dt=0.05\n",
        "\n",
        "    while Bullet.time<=timelimit:\n",
        "        Bullet.step(dt)\n",
        "\n",
        "    return Bullet.tarr,Bullet.xarr,Bullet.varr\n",
        "\n",
        "def main():\n",
        "    tl=10\n",
        "    v0=10\n",
        "    x0=0\n",
        "    TZero,XZero,VZero   = MakeShoot(v0,x0,0.000,tl)\n",
        "    T0_001,X0_001,V0_001= MakeShoot(v0,x0,0.001,tl)\n",
        "    T0_01,X0_01,V0_01   = MakeShoot(v0,x0,0.01,tl)\n",
        "    T0_05,X0_05,V0_05   = MakeShoot(v0,x0,0.05,tl)\n",
        "    T0_1,X0_1,V0_1      = MakeShoot(v0,x0,0.1,tl)\n",
        "    plt.figure(\"Time & distance\")\n",
        "    plt.plot(TZero,XZero, T0_001,X0_001, T0_01,X0_01, \n",
        "             T0_05,X0_05, T0_1,X0_1,\n",
        "             [0, tl], [0, 0],'k--')\n",
        "    plt.title(\"Time & distance\")\n",
        "    plt.legend(['Zero', '0.001', '0.01','0.05','0.1'])\n",
        "    plt.xlabel('T coordinate (t)')\n",
        "    plt.ylabel('X coordinate (m)')\n",
        "    plt.show(\"Time & distance\")\n",
        "    plt.figure(\"Time & Velocity\")\n",
        "    plt.plot(TZero,VZero, T0_001,V0_001, T0_01,V0_01, \n",
        "             T0_05,V0_05, T0_1,V0_1,\n",
        "             [0, tl], [0, 0],'k--')\n",
        "    plt.title(\"Time & Velocity\")\n",
        "    plt.legend(['Zero', '0.001', '0.01','0.05','0.1'])\n",
        "    plt.xlabel('T coordinate (t)')\n",
        "    plt.ylabel('V coordinate (m/s)')\n",
        "    plt.show(\"Time & Velocity\")\n",
        "\n",
        "if __name__ == '__main__':\n",
        "    main()\n",
        "\n"
      ],
      "execution_count": 0,
      "outputs": [
        {
          "output_type": "display_data",
          "data": {
            "image/png": "[encoded data removed]",
            "text/plain": [
              "<Figure size 432x288 with 1 Axes>"
            ]
          },
          "metadata": {
            "tags": []
          }
        },
        {
          "output_type": "display_data",
          "data": {
            "image/png": "[encoded data removed]",
            "text/plain": [
              "<Figure size 432x288 with 1 Axes>"
            ]
          },
          "metadata": {
            "tags": []
          }
        }
      ]
    },
    {
      "cell_type": "code",
      "metadata": {
        "id": "u-0HtReognVP",
        "colab_type": "code",
        "cellView": "both",
        "outputId": "87d3e7b3-90ff-42f6-ed89-a91c4e49e4d5",
        "colab": {
          "base_uri": "https://localhost:8080/",
          "height": 573
        }
      },
      "source": [
        "#@title retarding force 가 v의 제곱일 경우\n",
        "\n",
        "from math import exp\n",
        "from matplotlib import pyplot as plt\n",
        "\n",
        "class bulletDuble:\n",
        "    def __init__(self,v0,x0,k,timelimit):\n",
        "        self.v=v0\n",
        "        self.v0=v0\n",
        "        self.x=x0\n",
        "        self.k=k\n",
        "\n",
        "        self.t=0\n",
        "        \n",
        "        self.time=0\n",
        "        self.timelimit=timelimit\n",
        "        self.varr=[self.v]\n",
        "        self.xarr=[self.x]\n",
        "        self.tarr=[self.t]\n",
        "\n",
        "    def updateT(self, dt):\n",
        "        self.t+=dt\n",
        "        return self.t\n",
        "\n",
        "    def updateV(self, dt):\n",
        "        self.v=self.v0/(self.v0*self.k*self.updateT(dt)-1)\n",
        "        \n",
        "        return self.v\n",
        "\n",
        "    def updateX(self, dt):\n",
        "        self.x=self.x+self.updateV(dt)*dt\n",
        "        \n",
        "        return self.x\n",
        "\n",
        "    def step(self, dt):\n",
        "        self.xarr.append(self.updateX(dt))\n",
        "        self.time=self.time+dt\n",
        "        self.tarr.append(self.time)\n",
        "        self.varr.append(self.v)\n",
        "        return\n",
        "\n",
        "def MakeShoot(v0,x0,k,timelimit):\n",
        "    Bullet=bulletDuble(v0,x0,k,timelimit)\n",
        "    dt=0.05\n",
        "\n",
        "    while Bullet.time<=timelimit:\n",
        "        Bullet.step(dt)\n",
        "\n",
        "    return Bullet.tarr,Bullet.xarr,Bullet.varr\n",
        "\n",
        "def main():\n",
        "    tl=10\n",
        "    v0=10\n",
        "    x0=0\n",
        "    TZero,XZero,VZero   = MakeShoot(v0,x0,0.000,tl)\n",
        "    T0_001,X0_001,V0_001= MakeShoot(v0,x0,0.001,tl)\n",
        "    T0_01,X0_01,V0_01   = MakeShoot(v0,x0,0.01,tl)\n",
        "    T0_05,X0_05,V0_05   = MakeShoot(v0,x0,0.05,tl)\n",
        "    T0_1,X0_1,V0_1      = MakeShoot(v0,x0,0.1,tl)\n",
        "    plt.figure(\"Time & distance\")\n",
        "    plt.plot(TZero,XZero, T0_001,X0_001, T0_01,X0_01, \n",
        "             T0_05,X0_05, T0_1,X0_1,\n",
        "             [0, tl], [0, 0],'k--')\n",
        "    plt.title(\"Time & distance\")\n",
        "    plt.legend(['Zero', '0.001', '0.01','0.05','0.1'])\n",
        "    plt.xlabel('T coordinate (t)')\n",
        "    plt.ylabel('X coordinate (m)')\n",
        "    plt.show(\"Time & distance\")\n",
        "    plt.figure(\"Time & Velocity\")\n",
        "    plt.plot(TZero,VZero, T0_001,V0_001, T0_01,V0_01, \n",
        "             T0_05,V0_05, T0_1,V0_1,\n",
        "             [0, tl], [0, 0],'k--')\n",
        "    plt.title(\"Time & Velocity\")\n",
        "    plt.legend(['Zero', '0.001', '0.01','0.05','0.1'])\n",
        "    plt.xlabel('T coordinate (t)')\n",
        "    plt.ylabel('V coordinate (m/s)')\n",
        "    plt.show(\"Time & Velocity\")\n",
        "\n",
        "if __name__ == '__main__':\n",
        "    main()\n",
        "\n"
      ],
      "execution_count": 0,
      "outputs": [
        {
          "output_type": "display_data",
          "data": {
            "image/png": "[encoded data removed]",
            "text/plain": [
              "<Figure size 432x288 with 1 Axes>"
            ]
          },
          "metadata": {
            "tags": []
          }
        },
        {
          "output_type": "display_data",
          "data": {
            "image/png": "[encoded data removed]",
            "text/plain": [
              "<Figure size 432x288 with 1 Axes>"
            ]
          },
          "metadata": {
            "tags": []
          }
        }
      ]
    },
    {
      "cell_type": "markdown",
      "metadata": {
        "id": "LY0wHPiE6e8d",
        "colab_type": "text"
      },
      "source": [
        "##PROJECTILE MOTION"
      ]
    },
    {
      "cell_type": "markdown",
      "metadata": {
        "id": "s4EhTvXy748l",
        "colab_type": "text"
      },
      "source": [
        "Q. python에서 벡터를 구현할수 있을까?\n",
        "\n",
        "A.리스트를 사용하면 구할수 있지 않을까? \n",
        "\n",
        "-> 실패, 리스트끼리 더하면 요소가 추가되어 버린다."
      ]
    },
    {
      "cell_type": "code",
      "metadata": {
        "id": "f12-zNAG8WfI",
        "colab_type": "code",
        "outputId": "b23e60f6-953a-44bf-cdf1-e1c07d4e5f25",
        "colab": {
          "base_uri": "https://localhost:8080/",
          "height": 35
        }
      },
      "source": [
        "v=[80,80]\n",
        "a=[0,-9.8]\n",
        "print(v+a)"
      ],
      "execution_count": 0,
      "outputs": [
        {
          "output_type": "stream",
          "text": [
            "[80, 80, 0, -9.8]\n"
          ],
          "name": "stdout"
        }
      ]
    },
    {
      "cell_type": "markdown",
      "metadata": {
        "id": "ZYkx7t3R9G5o",
        "colab_type": "text"
      },
      "source": [
        "numpy를 이용하여 리스트를 어레이로 만들고 더한다."
      ]
    },
    {
      "cell_type": "code",
      "metadata": {
        "id": "CJsm1JsC9GgM",
        "colab_type": "code",
        "outputId": "797a4997-86ab-47fe-95f5-63c31a448847",
        "colab": {
          "base_uri": "https://localhost:8080/",
          "height": 283
        }
      },
      "source": [
        "import numpy as np\n",
        "from math import radians,sin,cos,pi\n",
        "import matplotlib.pyplot as plt\n",
        "deg=45\n",
        "theta=deg*pi/180\n",
        "v0=50\n",
        "v=v0*np.array([cos(theta),sin(theta)])\n",
        "a=np.array([0,-9.8])\n",
        "#print(v*a)\n",
        "#print((v*a)[0],(v*a)[1])\n",
        "\n",
        "v0=v\n",
        "t=0\n",
        "dt=0.05\n",
        "x0=0\n",
        "y0=0\n",
        "X=[x0]\n",
        "Y=[y0]\n",
        "while True:\n",
        "    t+=dt\n",
        "    x= v*t+0.5*a*t**2\n",
        "    X.append(x[0])\n",
        "    Y.append(x[1])\n",
        "    if x[1]<=0: break\n",
        "    \n",
        "\n",
        "    #print(x)\n",
        "\n",
        "print(t)\n",
        "plt.figure(1)\n",
        "plt.plot(X,Y)\n",
        "plt.show(1)\n",
        "\n"
      ],
      "execution_count": 0,
      "outputs": [
        {
          "output_type": "stream",
          "text": [
            "7.249999999999982\n"
          ],
          "name": "stdout"
        },
        {
          "output_type": "display_data",
          "data": {
            "image/png": "[encoded data removed]",
            "text/plain": [
              "<Figure size 432x288 with 1 Axes>"
            ]
          },
          "metadata": {
            "tags": []
          }
        }
      ]
    },
    {
      "cell_type": "code",
      "metadata": {
        "id": "j1SNHuSKAbyB",
        "colab_type": "code",
        "outputId": "03243770-4c55-4ea7-fa43-d99f35d955f9",
        "colab": {
          "base_uri": "https://localhost:8080/",
          "height": 367
        }
      },
      "source": [
        "#자 이제 클레스를 사용해서 만들어 보자.\n",
        "import matplotlib.pyplot as plt\n",
        "import numpy as np\n",
        "from math import exp, sin, cos, radians, pi\n",
        "class pow:\n",
        "    def __init__(self,x0,y0,v0,deg):\n",
        "        self.theta=deg*pi/180\n",
        "        self.v=v0*np.array([cos(self.theta),sin(self.theta)])\n",
        "        self.a=np.array([0,-9.8])\n",
        "        self.t=0\n",
        "        self.x=x0\n",
        "        self.y=y0\n",
        "        self.DP=np.array([x0,y0])\n",
        "        \n",
        "        self.xarr=[self.DP[0]]\n",
        "        self.yarr=[self.DP[1]]\n",
        "    \n",
        "    def updateDP(self,t):\n",
        "        self.DP=self.v*t+0.5*self.a*t**2\n",
        "        return self.DP[0],self.DP[1]\n",
        "    \n",
        "    def step(self,dt):\n",
        "        self.t=self.t+dt\n",
        "        self.x,self.y=self.updateDP(self.t)\n",
        "        self.xarr.append(self.x)\n",
        "        self.yarr.append(self.y)\n",
        "        return\n",
        "\n",
        "def MS(x0,y0,v0,deg):\n",
        "    POW=pow(x0,y0,v0,deg)\n",
        "    dt=0.05\n",
        "    while POW.y>=0:\n",
        "        POW.step(dt)\n",
        "    return POW.xarr,POW.yarr,POW.t\n",
        "\n",
        "\n",
        "def main():\n",
        "    x0=0\n",
        "    y0=0\n",
        "    v0=40\n",
        "    \n",
        "    X30,Y30,T30=MS(x0,y0,v0,30)\n",
        "    X45,Y45,T45=MS(x0,y0,v0,45)\n",
        "    X60,Y60,T60=MS(x0,y0,v0,60)\n",
        "    X75,Y75,T75=MS(x0,y0,v0,75)\n",
        "    plt.figure()\n",
        "    plt.title(\"DEG & Distance\")\n",
        "    \n",
        "    plt.xlabel('X coordinate (m)')\n",
        "    plt.ylabel('Y coordinate (m)')\n",
        "    \n",
        "    plt.plot(X30,Y30, X45,Y45, X60,Y60, X75,Y75,\n",
        "             [0, X45[-1]], [0, 0],'k--')\n",
        "    plt.legend(['30','45','60','75'])\n",
        "    for X in [T30,T45,T60,T75]:\n",
        "        print(\"%10.3f\"%X)\n",
        "    plt.show()\n",
        "\n",
        "\n",
        "if __name__=='__main__':\n",
        "    main()\n",
        "\n",
        "\n"
      ],
      "execution_count": 0,
      "outputs": [
        {
          "output_type": "stream",
          "text": [
            "     4.100\n",
            "     5.800\n",
            "     7.100\n",
            "     7.900\n"
          ],
          "name": "stdout"
        },
        {
          "output_type": "display_data",
          "data": {
            "image/png": "[encoded data removed]",
            "text/plain": [
              "<Figure size 432x288 with 1 Axes>"
            ]
          },
          "metadata": {
            "tags": []
          }
        }
      ]
    },
    {
      "cell_type": "markdown",
      "metadata": {
        "id": "ndMzvwgCO22M",
        "colab_type": "text"
      },
      "source": [
        "##Retarding Force가 존재할때"
      ]
    },
    {
      "cell_type": "code",
      "metadata": {
        "id": "o8PFa_L68zPU",
        "colab_type": "code",
        "outputId": "8a5a06ad-217d-4de9-ce42-76e06c91fd48",
        "colab": {
          "base_uri": "https://localhost:8080/",
          "height": 372
        }
      },
      "source": [
        "import matplotlib.pyplot as plt\n",
        "import numpy as np\n",
        "from math import exp, sin, cos, pi\n",
        "class pow_re:\n",
        "    def __init__(self,x0,y0,v0,deg,k):\n",
        "        self.theta=deg*pi/180\n",
        "        self.v=v0*np.array([cos(self.theta),sin(self.theta)])\n",
        "        self.k=k\n",
        "        self.t=0\n",
        "        self.x=x0\n",
        "        self.x0=x0\n",
        "        self.y0=y0\n",
        "        self.y=y0\n",
        "        self.DP=np.array([x0,y0])\n",
        "        self.g=9.8\n",
        "        self.xarr=[self.DP[0]]\n",
        "        self.yarr=[self.DP[1]]\n",
        "    \n",
        "    def updateDP(self,t):\n",
        "        self.x=self.x0+self.v[0]/self.k*(1-exp(-self.k*t))\n",
        "        self.y=self.y0-self.g*t/self.k+(self.k*self.v[1]+self.g)/(self.k**2)*(1-exp(-self.k*t))\n",
        "        return self.x,self.y\n",
        "    \n",
        "    def step(self,dt):\n",
        "        self.t=self.t+dt\n",
        "        self.x,self.y=self.updateDP(self.t)\n",
        "        self.xarr.append(self.x)\n",
        "        self.yarr.append(self.y)\n",
        "        return\n",
        "\n",
        "def MS(x0,y0,v0,deg,k):\n",
        "    POW=pow_re(x0,y0,v0,deg,k)\n",
        "    dt=0.05\n",
        "    while POW.y>=0:\n",
        "        POW.step(dt)\n",
        "    return POW.xarr,POW.yarr,POW.t\n",
        "\n",
        "\n",
        "def main():\n",
        "    x0=0\n",
        "    y0=0\n",
        "    v0=340\n",
        "    ang=10\n",
        "    \n",
        "    X45_005,Y45_005,T45_005=MS(x0,y0,v0,ang,0.005)\n",
        "    X45_01,Y45_01,T45_01=MS(x0,y0,v0,ang,0.01)\n",
        "    X45_05,Y45_05,T45_05=MS(x0,y0,v0,ang,0.05)\n",
        "    X45_1,Y45_1,T45_1=MS(x0,y0,v0,ang,0.1)\n",
        "    plt.figure()\n",
        "    plt.title(\"angle:%s ,k & Distance\"%ang,fontsize=20)\n",
        "    \n",
        "    plt.xlabel('X coordinate (m)')\n",
        "    plt.ylabel('Y coordinate (m)')\n",
        "    \n",
        "    plt.plot(X45_005,Y45_005,X45_01,Y45_01,X45_05,Y45_05,\n",
        "             X45_1,Y45_1,\n",
        "             [0, X45_005[-1]], [0, 0],'k--')\n",
        "    plt.legend(['0.005','0.01','0.05','0.1'])\n",
        "    for X in [T45_005,T45_01,T45_05,T45_1]:\n",
        "        print(\"%10.3f\"%X)\n",
        "    plt.show()\n",
        "    \n",
        "if __name__=='__main__':\n",
        "    main()\n"
      ],
      "execution_count": 0,
      "outputs": [
        {
          "output_type": "stream",
          "text": [
            "    11.950\n",
            "    11.850\n",
            "    11.050\n",
            "    10.350\n"
          ],
          "name": "stdout"
        },
        {
          "output_type": "display_data",
          "data": {
            "image/png": "[encoded data removed]",
            "text/plain": [
              "<Figure size 432x288 with 1 Axes>"
            ]
          },
          "metadata": {
            "tags": []
          }
        }
      ]
    },
    {
      "cell_type": "code",
      "metadata": {
        "id": "YjNWFQjo62EV",
        "colab_type": "code",
        "colab": {}
      },
      "source": [
        ""
      ],
      "execution_count": 0,
      "outputs": []
    },
    {
      "cell_type": "markdown",
      "metadata": {
        "id": "yRfD3kCdT6l8",
        "colab_type": "text"
      },
      "source": [
        "##움직이는 물체의 공기저항\n",
        "물체의 공기저항과 마찰력을 생각해 보았을때 정지하는 시간과 이동거리는 어떻게 나올까?\n",
        "\n",
        "물체가 움직일떼 마찰력이 없다면, 멈추지 않고 계속 나아간다. 하지만 공기저항이 있는경우에는 위에서 했던겄처럼 속도가 느려지지만 멈추지는 않는다. 그렇다면 둘다있다면 어떻게 될것인가?"
      ]
    },
    {
      "cell_type": "code",
      "metadata": {
        "id": "sA2jFm8TYGR5",
        "colab_type": "code",
        "outputId": "4bb4ad94-6e5a-40d4-b56d-c6d6a7ab28da",
        "colab": {
          "base_uri": "https://localhost:8080/",
          "height": 372
        }
      },
      "source": [
        "import numpy as np\n",
        "import matplotlib.pyplot as plt\n",
        "from math import exp\n",
        "\n",
        "class CAR:\n",
        "    def __init__(self,x0,v0,myu,k):\n",
        "        self.x0=x0\n",
        "        self.v=v0\n",
        "        self.v0=v0\n",
        "        self.k=k\n",
        "        self.m=myu\n",
        "        self.g=9.8\n",
        "        self.t=0\n",
        "        self.xarr=[self.x0]\n",
        "        self.varr=[self.v0]\n",
        "    def updateV(self,t):\n",
        "        self.v=(self.k*self.v0+self.m*self.g)/self.k*exp(-self.k*t)-self.m*self.g/self.k\n",
        "        return self.v\n",
        "    def updateX(self,t):\n",
        "        self.x=self.x0+(self.k*self.v0+self.m*self.g)/(self.k**2)*(1-exp(-self.k*t))-self.m*self.g*t/self.k\n",
        "        return self.x\n",
        "    def step(self,dt):\n",
        "        self.t+=dt\n",
        "        v=self.updateV(self.t)\n",
        "        x=self.updateX(self.t)\n",
        "        self.xarr.append(x)\n",
        "        self.varr.append(v)\n",
        "        return\n",
        "\n",
        "def MS(x0,v0,myu,k):\n",
        "    Car=CAR(x0,v0,myu,k)\n",
        "    dt=0.05\n",
        "    while Car.v>=0:\n",
        "        Car.step(dt)\n",
        "    return Car.xarr,Car.varr,Car.t\n",
        "\n",
        "#여기서 부터 좀더 수정하기\n",
        "def main():\n",
        "    x0=0\n",
        "    vh=100\n",
        "    v0=vh*10/36\n",
        "    myu=0.1\n",
        "\n",
        "    \n",
        "    X45_005,Y45_005,T45_005=MS(x0,v0,myu,0.005)\n",
        "    X45_01,Y45_01,T45_01=MS(x0,v0,myu,0.01)\n",
        "    X45_05,Y45_05,T45_05=MS(x0,v0,myu,0.05)\n",
        "    X45_1,Y45_1,T45_1=MS(x0,v0,myu,0.1)\n",
        "    plt.figure()\n",
        "    plt.title(\"k & Distance\",fontsize=20)\n",
        "    \n",
        "    plt.xlabel('X coordinate (m)')\n",
        "    plt.ylabel('Y coordinate (m)')\n",
        "    \n",
        "    plt.plot(X45_005,Y45_005,X45_01,Y45_01,X45_05,Y45_05,\n",
        "             X45_1,Y45_1,\n",
        "             [0, X45_005[-1]], [0, 0],'k--')\n",
        "    plt.legend(['0.005','0.01','0.05','0.1'])\n",
        "    for X in [T45_005,T45_01,T45_05,T45_1]:\n",
        "        print(\"%10.3f\"%X)\n",
        "    plt.show()\n",
        "    \n",
        "if __name__=='__main__':\n",
        "    main()"
      ],
      "execution_count": 0,
      "outputs": [
        {
          "output_type": "stream",
          "text": [
            "    26.550\n",
            "    25.000\n",
            "    17.700\n",
            "    13.450\n"
          ],
          "name": "stdout"
        },
        {
          "output_type": "display_data",
          "data": {
            "image/png": "[encoded data removed]",
            "text/plain": [
              "<Figure size 432x288 with 1 Axes>"
            ]
          },
          "metadata": {
            "tags": []
          }
        }
      ]
    },
    {
      "cell_type": "code",
      "metadata": {
        "id": "5GKaQ5N-aATb",
        "colab_type": "code",
        "outputId": "db1ce136-1f8e-4966-877c-9aa2f2ff2843",
        "colab": {
          "base_uri": "https://localhost:8080/",
          "height": 266
        }
      },
      "source": [
        "import numpy as np\n",
        "import matplotlib.pyplot as plt\n",
        "\n",
        "\n",
        "\n",
        "def distance(v0,myu,k):\n",
        "    m=myu\n",
        "    g=9.8\n",
        "    vh=v0*10/36\n",
        "    return vh/k-m*g/(k**2)*np.log(k*vh/(m*g)+1)\n",
        "x=np.linspace(0,100,1000)\n",
        "m=0.2\n",
        "k=0.05\n",
        "\n",
        "plt.figure()\n",
        "plt.plot(x,distance(x,m,k))\n",
        "plt.show()\n"
      ],
      "execution_count": 0,
      "outputs": [
        {
          "output_type": "display_data",
          "data": {
            "image/png": "[encoded data removed]",
            "text/plain": [
              "<Figure size 432x288 with 1 Axes>"
            ]
          },
          "metadata": {
            "tags": []
          }
        }
      ]
    },
    {
      "cell_type": "markdown",
      "metadata": {
        "id": "ByAixQNYda8W",
        "colab_type": "text"
      },
      "source": [
        "##sympy 쓰는것을 배우자"
      ]
    },
    {
      "cell_type": "code",
      "metadata": {
        "id": "DiRlbzt7dYsW",
        "colab_type": "code",
        "outputId": "dffd98a5-57f6-4043-e5d8-258609d872d2",
        "colab": {
          "base_uri": "https://localhost:8080/",
          "height": 355
        }
      },
      "source": [
        "from sympy import *\n",
        "import numpy as np\n",
        "import matplotlib.pyplot as plt\n",
        "K=np.linspace(0.3,0.001,30)\n",
        "print(K)\n",
        "M=np.linspace(0.4,0.01,20)\n",
        "#X,Y=np.meshgrid(x,y)\n",
        "\n",
        "x,y,z=symbols('x y z')\n",
        "v0=symbols('v0')\n",
        "k=0.05\n",
        "vh=v0/3.6\n",
        "m=0.2\n",
        "g=9.8\n",
        "\n",
        "\n",
        "f=100-vh/k+m*g/(k**2)*log(k*vh/(m*g)+1)\n",
        "#fz=100-vh/X+Y*g/(X**2)*log(X*vh/(Y*g)+1)\n",
        "\n",
        "def func(f):\n",
        "    vh=v0/3.6\n",
        "    g=9.8\n",
        "    return 100-vh/f[0]+f[1]*g/(f[0]**2)*log(f[0]*vh/(f[1]*g)+1)\n",
        "#Z=solve(fz,v0)[1]\n",
        "#print(Z)\n",
        "Ov_k=[]\n",
        "Ov_m=[]\n",
        "for y in M:\n",
        "    km=[K[-1],y]\n",
        "    sol=solve(func(km),v0)[1]\n",
        "    if sol>100:\n",
        "        pass\n",
        "    else: \n",
        "        for x in K:\n",
        "            km=[x,y]\n",
        "            sol=solve(func(km),v0)[1]\n",
        "            if sol<100:\n",
        "                Ov_k.append(x)\n",
        "                Ov_m.append(y)\n",
        "                break\n",
        "            pass\n",
        "\n",
        "plt.plot(Ov_k,Ov_m)\n",
        "plt.show()\n",
        "#영역을 설정해 주는것을 찾아보자\n",
        "#영역의 안"
      ],
      "execution_count": 0,
      "outputs": [
        {
          "output_type": "stream",
          "text": [
            "[0.3        0.28968966 0.27937931 0.26906897 0.25875862 0.24844828\n",
            " 0.23813793 0.22782759 0.21751724 0.2072069  0.19689655 0.18658621\n",
            " 0.17627586 0.16596552 0.15565517 0.14534483 0.13503448 0.12472414\n",
            " 0.11441379 0.10410345 0.0937931  0.08348276 0.07317241 0.06286207\n",
            " 0.05255172 0.04224138 0.03193103 0.02162069 0.01131034 0.001     ]\n"
          ],
          "name": "stdout"
        },
        {
          "output_type": "display_data",
          "data": {
            "image/png": "[encoded data removed]",
            "text/plain": [
              "<Figure size 432x288 with 1 Axes>"
            ]
          },
          "metadata": {
            "tags": []
          }
        }
      ]
    },
    {
      "cell_type": "code",
      "metadata": {
        "id": "3AuXsDeMkCDg",
        "colab_type": "code",
        "outputId": "c6df4c29-1b78-4d9d-f014-5b78cb2715fe",
        "colab": {
          "base_uri": "https://localhost:8080/",
          "height": 287
        }
      },
      "source": [
        "import numpy as np\n",
        "import matplotlib.pyplot as plt\n",
        "x=np.linspace(-100,100,1000)\n",
        "y=np.linspace(-100,100,1000)\n",
        "X,Y=np.meshgrid(x,y)\n",
        "Z=X/Y\n",
        "plt.imshow(Z,cmap='hot')"
      ],
      "execution_count": 0,
      "outputs": [
        {
          "output_type": "execute_result",
          "data": {
            "text/plain": [
              "<matplotlib.image.AxesImage at 0x7f55968f4438>"
            ]
          },
          "metadata": {
            "tags": []
          },
          "execution_count": 13
        },
        {
          "output_type": "display_data",
          "data": {
            "image/png": "[encoded data removed]",
            "text/plain": [
              "<Figure size 432x288 with 1 Axes>"
            ]
          },
          "metadata": {
            "tags": []
          }
        }
      ]
    },
    {
      "cell_type": "markdown",
      "metadata": {
        "id": "eCZwb0y4oA2E",
        "colab_type": "text"
      },
      "source": [
        "##matplotlib animation사용법"
      ]
    },
    {
      "cell_type": "code",
      "metadata": {
        "id": "N50GX822oHTD",
        "colab_type": "code",
        "outputId": "138b32df-040f-43c7-e382-1edd0eab87b0",
        "colab": {
          "base_uri": "https://localhost:8080/",
          "height": 556
        }
      },
      "source": [
        "import numpy as np\n",
        "import matplotlib.pyplot as plt\n",
        "import matplotlib.animation as animation\n",
        "from IPython.display import HTML\n",
        "\n",
        "def data_gen(t=0):\n",
        "    cnt = 0\n",
        "    while cnt < 1000:\n",
        "        cnt += 1\n",
        "        t += 0.1\n",
        "        yield t, np.sin(2*np.pi*t) * np.exp(-t/10.)\n",
        "\n",
        "\n",
        "def init():\n",
        "    ax.set_ylim(-1.1, 1.1)\n",
        "    ax.set_xlim(0, 10)\n",
        "    del xdata[:]\n",
        "    del ydata[:]\n",
        "    line.set_data(xdata, ydata)\n",
        "    return line,\n",
        "\n",
        "fig, ax = plt.subplots()\n",
        "line, = ax.plot([], [], lw=2)\n",
        "ax.grid()\n",
        "xdata, ydata = [], []\n",
        "\n",
        "\n",
        "def run(data):\n",
        "    # update the data\n",
        "    t, y = data\n",
        "    xdata.append(t)\n",
        "    ydata.append(y)\n",
        "    xmin, xmax = ax.get_xlim()\n",
        "\n",
        "    if t >= xmax:\n",
        "        ax.set_xlim(xmin, 2*xmax)\n",
        "        ax.figure.canvas.draw()\n",
        "    line.set_data(xdata, ydata)\n",
        "\n",
        "    return line,\n",
        "\n",
        "ani = animation.FuncAnimation(fig, run, data_gen, blit=False, interval=10,\n",
        "                              repeat=False, init_func=init)\n",
        "\n",
        "\n",
        "HTML(ani.to_html5_video())"
      ],
      "execution_count": 23,
      "outputs": [
        {
          "output_type": "execute_result",
          "data": {
            "text/html": [
              "<video width=\"432\" height=\"288\" controls autoplay>\n",
              "  <source type=\"video/mp4\" src=\"data:video/mp4;base64,AAAAHGZ0eXBNNFYgAAACAGlzb21pc28yYXZjMQAAAAhmcmVlAAA5921kYXQAAAKuBgX//6rcRem9\n",
              "5tlIt5Ys2CDZI+7veDI2NCAtIGNvcmUgMTUyIHIyODU0IGU5YTU5MDMgLSBILjI2NC9NUEVHLTQg\n",
              "QVZDIGNvZGVjIC0gQ29weWxlZnQgMjAwMy0yMDE3IC0gaHR0cDovL3d3dy52aWRlb2xhbi5vcmcv\n",
              "eDI2NC5odG1sIC0gb3B0aW9uczogY2FiYWM9MSByZWY9MyBkZWJsb2NrPTE6MDowIGFuYWx5c2U9\n",
              "MHgzOjB4MTEzIG1lPWhleCBzdWJtZT03IHBzeT0xIHBzeV9yZD0xLjAwOjAuMDAgbWl4ZWRfcmVm\n",
              "PTEgbWVfcmFuZ2U9MTYgY2hyb21hX21lPTEgdHJlbGxpcz0xIDh4OGRjdD0xIGNxbT0wIGRlYWR6\n",
              "b25lPTIxLDExIGZhc3RfcHNraXA9MSBjaHJvbWFfcXBfb2Zmc2V0PS0yIHRocmVhZHM9MyBsb29r\n",
              "YWhlYWRfdGhyZWFkcz0xIHNsaWNlZF90aHJlYWRzPTAgbnI9MCBkZWNpbWF0ZT0xIGludGVybGFj\n",
              "ZWQ9MCBibHVyYXlfY29tcGF0PTAgY29uc3RyYWluZWRfaW50cmE9MCBiZnJhbWVzPTMgYl9weXJh\n",
              "bWlkPTIgYl9hZGFwdD0xIGJfYmlhcz0wIGRpcmVjdD0xIHdlaWdodGI9MSBvcGVuX2dvcD0wIHdl\n",
              "aWdodHA9MiBrZXlpbnQ9MjUwIGtleWludF9taW49MjUgc2NlbmVjdXQ9NDAgaW50cmFfcmVmcmVz\n",
              "aD0wIHJjX2xvb2thaGVhZD00MCByYz1jcmYgbWJ0cmVlPTEgY3JmPTIzLjAgcWNvbXA9MC42MCBx\n",
              "cG1pbj0wIHFwbWF4PTY5IHFwc3RlcD00IGlwX3JhdGlvPTEuNDAgYXE9MToxLjAwAIAAAAtFZYiE\n",
              "ACf//vWxfApqyfOKDOgyLuGXJMmutiLibQDAAAADAAVQSrRfODf9+M4AAPkt4KD7+ABfLM+hvjXH\n",
              "GKLkkeMMtiN30cxps1iRblPkd95MSWERjInlpUV0XWgim3z/+D+RfD14g7iZ/DXCIwbaVKNodRia\n",
              "YDMKip0UdJMhQIUi8ZjryGVxrGwQJXLVFbxr2Bijb2E/Q1ukwJrjm9rdnBZMG//qvwYhPm1klFPx\n",
              "O0DhdxIoWcASJNb7deHa0J60ve6LyrR73TAF0ET1rP/cHWGmPT2tAOZpZmb1DDfZBR5/Wd/i/l0u\n",
              "4TyvE6dlPp/SLuJ1//MygzKv2YkMJsQw43OyJe+18hLhgSuMsPREF44Z15h5uIqOB5z59XN3Q86j\n",
              "dRuTzBUJVstXLZNDH+GzVPZZyo/UWZD7LRtEOTW666Qj+KihVdkU9z96+kdnIKmosOUzEZ6h9K8m\n",
              "9S9/hBGQ2gSimkwTfbExx0S8Ssn36EtVTIA23tQCJ3gIrSkD2ci5bJASb3q7jBDtwNfjNc8dYRb+\n",
              "DuMNwY0A2GcOWf9Xm/jJI1ukXfPta57qHeKr8AnEvKnUZBod8nwIOjzgeGUJj7wrcuIK9rkuj3qX\n",
              "CY5DrHPlOIryyNuvFSHIgf6XKoJR3Vn8v/QJ5N+V6CjwT0fKNuuF1nvMDQwhdJFzyJ/XMjKgDK/v\n",
              "0nf3YbYtzeb2uqgTMR86G4A801MDqXbfVjZ5HWRWDvhl0G0CIpiPGnG9pItVAga5rG0F8vKxvjMN\n",
              "Lr3Q1moKu1JFP9bD9h+jxgY5KMiLa7eqngeahrIA0t158d6iKMMJ79V6hXsC4L9/dQY9B4JyO4tC\n",
              "ZYvcfNOOhHydoJDB9Ax3aeaMRDoT2REH16aKYW0LRRQgZcuUHYNRbPUVFFeRk27irA81Rxo+5UzQ\n",
              "A9+Q49piPk7PSlK1yUxX+SIyY55fl+W8v7rFSuiH1XBtNEkGXcjLFU4Ixah3PIaQ0iSw1q0f7REl\n",
              "KuWWtzvQkhp8qvfrunDqFtQbuXxxsAkdCBXp2AfXx1IHgCI4Ub+B6OHwiQ4bx2o54SDN60LL5KPk\n",
              "QFFRwoMFfJtk2DtmfuQBCnP0hoehYSBbXyUqJpI3/4ss5RwtF6//tE6aVb9hx04pZXyx8dmGZwnm\n",
              "np90W4/A5UivUV70Nhn0slC9cr/BIe1PzK3ghtXciGFpGccSYd4JtDP/OI+c1atBvvOKbhiJ1JbR\n",
              "yrx4bt3apL+f2RwF5VCcbXWOvwF621A0iBjQHpLuSQFHNuVpefI5LQNnPkzdnW0qTESz9UrZtIw+\n",
              "bUCqL4OTebQuzgtc5hBjJk5k2KHcl2g9yNRlZl5aZscRWNjZ3nmgtxKO4g+Hi9kRpAGwRuagZwnD\n",
              "/QWjY87mpVRNMUzUrZDlNMrZvcB7fPgmFLbjxdbE/lIACNqOIhZeVKSIh0h/5RdwdjXFd9FwTHXH\n",
              "Ha4Ew2ZX3SM5o6jQ7rCgB7ul4/fvRwBoacxbft4DmZRAJmmPmEf8FBQMPsoZzK3Oe4kx820IJ4Xb\n",
              "dQ57jPrniXTN1G9Zt80v8t9FtPWoih+bGuXZZftHwDGUWR2sFhqv6aruE9ugeL+6hxyG1wLpZW9x\n",
              "duQsDrNaunDDPu94sIlgvPI49zwf4O0F0GtsTgrCdPtxt7vr0gurdr/TtC7RLSpBMYz3nkLlKUJe\n",
              "q6xOSwBKcoFdlsl5N/xoqAdsJ+Lklw/kQ2KQ7E28mmXr5uLLgg/iI2Z5H/SuIVODEJVLE+gxP1X2\n",
              "OxM/OzKRVPg5iHUKGJl1Y3pJADcT7ZFgc82Z2kTZEro94ERNhOznkt3NO3n6+ZaxBHObpGozJKZi\n",
              "nlHL+lZSa3M5XauhaeIgb/2W5e/hL+tfVPKjNkXXLTiCfV1YVNMUQi4nkW3eQbmgLjRSAKEdTcpD\n",
              "vXJGhbFmKfN+dywgGxtape0p0hzBy1LuhbvCItHOsn7sJI6SsdKKAktxrrCQ1g1d+Ggqgyul0GVa\n",
              "V8OCcLWl6W9uPcLL8druSZFLPZoUNR8VBlpGBX65mOOwkiioAAvrfwXihaqHUJHlpb67SiQ6mcHC\n",
              "oXR3DxDlDIF6G74HcIJpMIV7Na+bB/HUIdU0eBkedqGLoONGXHj3t9/qwWmsGChH/1a5tzM3N66u\n",
              "E/pGUE1JLGbmrxt5BUESa5b/Iwr+Q7Su/bEkKoaOqCn8u9+t8gSIjSDWkdpoEQxLX0N6TGRxjEA0\n",
              "a+Ejv/Bo9CLMvx6yefq5J9KPRPcAVIhX5JuGj+0bNG0iHqqpgsU5zZUpS9I28wn6P2O99AF3EP7F\n",
              "p5tzAc2q/pQ4AyB0RVEocqDIooNM+b0iEmHcP45MPm/t8yVCg78PljSK0hZbX+vcPO2RXdZ2PsgP\n",
              "JIC4HKcSs+p073svoAAVsYoWkVrjCdiwY15l2ZVQ5je5HMZt7Iq6p7gvjDg20IaepLzB+JprpTm/\n",
              "PKXTOncRDZCeIN+9eU49idcldcNkF0sK/Y83daFNdyX761dmhcNFlAr59kP1USSAybSmNAsuAoZg\n",
              "A9Ri9sep4ya5jbyOGweyapBDIIQUVkHf9cGaf9T0NeifZedwRncINf1DYgzXXSMddcFtfBlicgCY\n",
              "vlFkaRDyi3igMepKAjv4/T6NfbBDjOeqzJAjt8msa2AG928ltocDlE83+4q7hmVpIujKdlSYAKn2\n",
              "MDVpvvFmQV+VQJL4cOsgeWkp7lId9OuJ93ddLPA9Z3xvE0ZAfYrwYaiX/ExESyjEARldYGfJzle8\n",
              "bDwfLPKBoTWM+/a6Ds8XjI8CgKQcMG23NWvbgUXydGao1FBJ4xOBN7cWTWpdL210KhZdA9oUB9GB\n",
              "PD/tEsEd7MSoH3aQ3D5WVZjWw2WruhtUJoese4KCjw/MFtfr+P60lqLUZD2z28NzZClNH+vtSQZ4\n",
              "bmLjVhY4M0QLzAxoyuHCrZqBFkcKuEeORJv60C/90mf+VyLGiREgR6hSS8c3MzWL/fSUb7xp/RcS\n",
              "eJyBoHl3Xebr0ytWSKBJ1MnywkvscRKtwFSe/0uFSghPZx1KY1wjxhWGhyP8T0RggIUqEZtnQX1i\n",
              "mCrK70P4MenVhEgwHA40msmX0Yro3z40mfTi/j0He2gNGdD2BYQD4o1Mr9wXbb5PDu+z31Zb5TaH\n",
              "pfDdCK0rAhbnA/lnirJlafuSRngoYcJFbaPRsUn7VJw8fRx09BSmW1dp+NQdId/OW4+Ie5GHdLj4\n",
              "nCLpKsiJgTkY1a4KOFpKROJ+T6WbY9NcjhMpa2anHrjjmzJjLV5XhTwex6nejN763WobxRp20u4m\n",
              "xah5d9tnnR8eAwX+J27ymvdGygaEO9fNUaS86gujh57576MVZ/eK5ut4mr93gvMf30HjWpXGuZ/B\n",
              "bbt/JDeRpgDKZvjOMk1XPg/9GYMFzuhMSvIpPlVwUYgmReVBS3Kaa0DowCB4tJ7HTgJPDYdUs+pi\n",
              "gaM/pNo3bwKw69OCfuTGpIzv167t6Zaov9+e/A49ELM3jy3vK3TdQ8g/As8xj/qDg0ywVKM7gSD/\n",
              "3eOBrfSRdYNj/TIADsbbTMF3jnTH0SCwyYB5UAi70fg0PYLe53hou/4EbqEyBnx05u9fxqe+6P+V\n",
              "4n/85usOiFBXRvVzvJBHZsnaC5S49c/l87w5f/49PhD+GSlgdVoFVCjgex4eiPokDtZ8sLAd4+KB\n",
              "INlRI7K+7KGxK7oLXIFLNsjYlehtcdwyXT1rXUN4juZ9wmeX+G6hds8/kglpzKoUhIgc2ICRvSu+\n",
              "Xp44rNi5zDtnwxqI/pOyrjVVR6kHfr59QIvDkqrrBTtUuZT0iWFQOW2UZ84GcXcO+JArt+IHW+K2\n",
              "GZpPr7xuDPmX+y3EHe1nv5LF1GZ1umjqSIAeKhgABvUAAAHQQZoibEJ//fEDc2Ip9yYEA0yO8XUt\n",
              "kK7i03R3Y5TmS7LQ3chkTR8H6RFhhlPNjYXjrW7wkgxoXddNjt8fUKhsBOzTW6ANpUtmvyyzzhIQ\n",
              "wkJ8RXdQqfpPpfE3x5Z6uWW5PBFQvPbYIpDnooDf0oEzAcNBW2pJNAKJ+mr77dgoCUah5KyDMaUB\n",
              "erjbRe4CbKwNNcLlZHO9/9+exXkvSRpyU1eTZrp10dlttgLaPs6WMnL01CGXUIpWsxLXrs8g6x0M\n",
              "+7gpftyTynlgvLaN4Uo0k/YDEl4mbqGCBgv0ZHniWXEPLYoM7P9yt7omRL1Lh0LhmQhhZcYe8jdD\n",
              "0+PQZ3aewvDqrSkWzgCb6U26OHPlTc0wWKR1i++3HEnC8GOF/I4TAya14Kt/cfQwbB8Mg3mEmEnt\n",
              "y+lidT52PA7MmT8B8P86nGSRP7LEcLdh6Z6Mmh8RRitpSHV+b0q7dyA+bnNOJi9TCbTN+Q/+M3t6\n",
              "mAAoG79pAaySt06tNityD53+ydQQijAikiIYEcW/wWcsueStWnqFEfl2gwdUILvLjmU5jNaUhpEV\n",
              "aw9jCU2a3iAyH4Rw/7czi4f4fCuyvJlNoYojWZyfqa/P5RrF+wun9nlLIzIAAABDAZ5BeRf/BYPc\n",
              "GSwMUcNgAhnuw77YaygaeyxEv0xODTQ2VPRnYpRZlatwght880N7QrKiITE9jQyA++XwOnJzjbiX\n",
              "gQAAAexBmkY8IZMphCf//fEASJP5rrWyp5AAhHlvMAyS8Uz8T50MVviouh6cclX8Fft2y56v8R/0\n",
              "lN7XdG4Ty7WuuP8DFsGYrQUMccmQ4UkGqYiGeaxGV2p+f9Ad4BpGcJqw0G4nHKbWQhPuXl51vaEW\n",
              "RMSl8yUcb9RxY10mnlvbkj4if3iDSTHW1gi1F2KYkCCGM+PiAwFdjdLnJ68woCC2jkWzY/boEDZd\n",
              "d5093uUCEmRHquHFA5aSKyORultfdDRxldBkL9YRYNHIiqSZPvDEupZF/gsxStH3FO9zAVgusxAC\n",
              "oAykadaEQjX9IE1XRr95yOZ5wENo7K0CUQxVl2+nLKH/AzOno73kN+iVNXrLUkNObNUzGo2Qf0fJ\n",
              "QK6ai80dhaeNgXC8y0fHPatlosU3Er2jqEqtUuPkYQln24qeINDwB3M0snJRtzom7uMKcti7e7+E\n",
              "HrNUHNKRHZcoTM0qMmF+EwEQA2RYzUpVCt3OgdtfhlZYrbPYtDy7YCtgeQDcSr8oP5/Fa8dvnAvo\n",
              "453nMQTbzGfrhLbyNoF2ODlF3YiEOWydjG+87Ct5MNqn2RJslnmbSKyMxLHd2GnM6ktJKmryWdku\n",
              "fkRUaSSppUEmAZDQUnzxx5qrueICDHecB/p2Jrbiqd4Ohc6eCu3ualoAAABLQZ5kalPG/wRJvDNx\n",
              "bgzVJlcPWAAKyaIvo+2ZoQUGtp2NnGTkYaNIFUlX1LISC7lcSuHp+WlDRvzP3hEVzItagXNmLQYI\n",
              "iZp4mmklAAAALAGeg3RF/wWHcghrQ8nGlU4sEzujp0YlVoMOrqH1ZLCjVr6rKLGGbu/dj+/dAAAA\n",
              "MAGehWpF/wAKyPdmV75cd8AFziiTXUhHYZbrQ0X83yd/D9K/23WmiGfzNcH547BRwQAAAaRBmopJ\n",
              "qEFomUwIR//94QAMOgHIAEIe0NfDTT6hMfTUvMXWyPGcsXGUCNeM2tfwsfHF10BC4k5Z+/Z1OQAI\n",
              "GMxVbhXiZGZdEt1iwHJAOFv3CIIcDYvrbJ1BF7WF9rl+Zt6Df0rWq2PYw/2A/CaNSMowFXm+k5cD\n",
              "aRvznvZKvfvK5gQ+Xyu6Ora1YDIrUzb3uwJ6kt9FjRm4Y4/bxlahnUvL8gnCUwOO49o62/yhKohu\n",
              "yf2gKlSJXa3A3J27q/K5d+vImKctIPgaeo0wvZ/Kr0PD4fs5XoAUIeSkt65eCC7gXZIhTdm0452M\n",
              "ixU3sET2Lj2B1aGqB9IbDdhonkxARDYkt49AGWqsQzohiq5cpq4sdg0cZUsdR2tSFLu/HwWB6HwM\n",
              "tLERJVDFAQkXKMxykPgSCQY2mPPgPm/uEU1Sdbc/2N7qohbuD1IewocFo2ZwDRdfvRqwZoed5Yct\n",
              "I7Teyip+5oP7aPSjbG0VN1Rvr3eO+kC+lTmPXBfS8nyYZ1bBGjv+Hn8XwWLmNC6SEj8isznR8ew/\n",
              "BwCdsg5oN1WSuY4olpqzUTcAAAAzQZ6oRREsbwFgrar+xIsaNLCwqJRN4y7bu/AAe10Hn17WuF+D\n",
              "BAguUnZBeQUYM2umZpEeAAAAKgGex3RF/wACn8Apyt45OeoAcUUFkL/IZ+zlTaZsju730RT/IfmV\n",
              "cu9aQAAAACUBnslqRf8AqGdXA8djUAAiuHwaOI0nyLJG8Tf8BBdUtVCCyxG7AAAAwUGay0moQWyZ\n",
              "TAhP//3xAB5tTcDRdZAKD7susXTK+YfFRKJncoq7BeP9uZtSqIPbjmJ5Loy2RGDp/lfykZzU81zC\n",
              "wokWuNWL/5PMv4FeD4Lxw7rE77q1iv0KZIJeLamjWFSfmSqERxyN6VrHkkEDCFzqfTo3QS8HDprb\n",
              "RXk1Lpo4p8RXWjqC2w1DnEGUYIN/acrk6RsXhsTjjGsIbHF+iTqC16G4gN0G7evFfLFGHKmOwhHY\n",
              "VHpOpIh+fJPGwC50iLYAAAGMQZrvSeEKUmUwIT/98QAeRiPbgJtlz29Qo7m8/cOjwJcO2Iu7AJ/k\n",
              "gaE/6dx/rxee4jQFODsYqL2IedWdZWB8XWF0ah998BSmP2wXWst+ys7R9M1db+2JMFQl771669NR\n",
              "6jCCukFj4zekDu3jr0oE2MAK5JvScD4I4ngBgdCoMlx0vt4I54EYJD5JH3RUpLogxOfhdqFq3pFh\n",
              "v9oi8saw7+EHRvre/H861V8INRkka4wzXf5WJFQcqtMFOGHXMJgmvxyY4Pv+WjrLD490U7WHHxwx\n",
              "g4Hib8+eJqeAlffXR4PwCs+NKjxns9dkEui30EzmVQCeMHfn7QPXHocxotPsKJGhFmaDddO2XYQu\n",
              "ij/wkek8KC/fIrlkwKqru/MfFIdf1b7ktWmOGT7vbxaKFY20qhBSy/fBuIKydUrEi9CbxV9Q8nzZ\n",
              "lY4oo4ZcYZyxOIxoQvPTOc2zFBN7gmV29VXIXDbQ4zVneAlttPwslemb9I7UhjfDVpG3CRKyZx21\n",
              "JQUIg7ZVgjcP1Wd1jX3AAAAAJ0GfDUU0TG8CBt4z+8sDKXr4k/ABOyXHN21G29xqDfysVOdomav9\n",
              "UQAAABwBnyx0Rf8Cn745QADhdMrAv/Ws/XFOdns+Z9XBAAAAFgGfLmpF/wJqvGrgtEoCMEDAo0II\n",
              "O4kAAAGGQZszSahBaJlMCE///fEAB2oWqoAtIdm0PJa5iveXEpASshDhiGWNCiHyCYdqizMVLL3s\n",
              "uO6lSJ8sgZcrr/rNO/Y3TGyjgoPjT5p8HsVv7p80MI65A+slquP9HNMVDI0uWkmZmvewkvjxuvrf\n",
              "ZQXcDxP0xCNRuNkgpisJgQoKUbFSIThyPLlmAzAuHFlh8yQJqfR93VK+u38A0Cg3Tb5RL9yubKw2\n",
              "7FAlE1LgdFJ4S1iFKGoBjtT2feBMQKlJyTD2Deqn0BYlR4H17U4/hmVKvwKFREDST6KZ8eU7x8kG\n",
              "DnlKEDwXkqE/atuznAN1O+BCREsEgw/EZezl3ihSIgkcfIQdgQAQcmK2I3Cu7ZyKqhX3jvyDlNMg\n",
              "adu0r4sOz77pM/kcgRgkMVUlKqd2YCEgRcfhmPGRA99CeNag5leQXu7SeE/wX3ojPgBi4NqOfAZS\n",
              "tZeBXDhLAqjCd/v+qUY+jzNuCbvEDt2rMnPqCwsLD1LsKI++er4rVOJ0USiBhma9hEAybLpcAAAA\n",
              "J0GfUUURLG8BYK2M+N6fX/i2Cb+c1/ZErMABaEF3zo+AgcIaKlVKSAAAABMBn3B0Rf8AAnvBS4mO\n",
              "vGVUZa1BAAAAHgGfcmpF/wAT7OrgeUuH8AHHSOS1OLF1TfkePMkF5gAAAXFBm3dJqEFsmUwIT//9\n",
              "8QAOd3T4Asfx4g5GTb4+OHzs8LLN/uTq8X7mkuOW5ZWQNxl6cQY1n5tCQE+qKaR3DyIeNhnldNDq\n",
              "mpM4lFHUiDzYi5ZUVWcjh4651hDhqOYOk/MbwUQUmFGIBhT+PRejX9rgfehDXhx4lNvltWhP3zOL\n",
              "zx4zJnkP0exlMok9DvLUOC0HMSwtWXIkMdg2gZoXRCoaH9VyRlPOtC00xVrIPJVWt7y5AzgWiHhv\n",
              "I+CVJWiKz17cmfleEQk3+O/YobdzUDqXBrsecLuCd3gnKhGFwO9fdshp8/5Sju9jf9x25j6TuDQr\n",
              "7f+8NyzvM6tA/3X543cEqd3qLXjDfiEr+Tqq0S4kzlcuawn/wH69AO1mxskCBY+a3QGeYlr74BPo\n",
              "Dvjtx/DBbdFG4eGMLBjRPABepbS9Q389WLIECfGr5c+nH6gfHwPbCFaoTQIooQBKbprQgnW0BIbg\n",
              "BmwqtWY9HYM5v7q4VuAAAAAqQZ+VRRUsbwFgrg58eLFn4AVEzq9mYXJRdohzVPweyERZQBrn13jj\n",
              "hUVVAAAAIQGftHRF/wJsP8mRBTS0oAcdGWGmH78Ks92cN9f4E6QGBAAAABsBn7ZqRf8Carmp+VXw\n",
              "AbB9iygtjyRS7Y3Pc08AAAFkQZu7SahBbJlMCE///fEAA6FlbgAWsUw0N3roXolWAqiOgQNOBuZr\n",
              "5hSi8tYbz3UcBejLrho+drwtqHUK5yRjXmBkYvk6L7N5u0oRjUvEftqe5CFAUAkcPV4OqL4K2uGr\n",
              "9BA+tnn7h/hSizUwWR9W/ZoJtAN9qUZkgohWy0Z6vl0UHh8Ho0eSbY5OllTEGCOgSN0DhiliESBM\n",
              "d2Bo+ZLNX9O4oiXYgDFkASxmhaF8H7Tf4OpG+q30ZZlEXcA37MpkVbBXk9EgV3CvsLRJs+Xk4Ajj\n",
              "8jXE+tLdetMnrDQN4YlJ40El1nADDDM+ALLgE3ULtZWdoTlFQBJ3jd0tNNL/v24TS057m12BYoDp\n",
              "M/ES+ULlQtieNGmBXnENEB2JOk67gAEin9HWihnZVjl8kkGP/A0zT+4gCPatCQFM4cW0Soy9sv3w\n",
              "Nehwed+ursNSL+6yLTGi0KeL/XRk2MPnE1Eo8e7ddW8AAAAlQZ/ZRRUsbwFgrZh+0/M39FG2fm4A\n",
              "J2VLI1XW0obAsZ/WkU5gGAAAABsBn/h0Rf8ATUkgLO8LbMBJfygwoT0bOOKnd4EAAAAcAZ/6akX/\n",
              "AAJqtkHeQv3ycAGy5k6T3MK7b2YBgAAAAchBm/9JqEFsmUwIT//98QANypT4GT2893NB8iSVvbk1\n",
              "91GL9lVIIqTjMX5SJvJJlkgb9GBB2iJqfsOW0bOs0Obr/SAU8mTN915WU8MJW7oSAoI7bUbexqAc\n",
              "JeDt3X7V8qf2JZMpGma+6dzy9oobIIWXBtd1h6ugM05+m5YPz2gQYsZh7xuBVcuyswMkVUrgC5+x\n",
              "SNhV/vGJI4rsSJ4sSsb3o9agy4abJGLn/0PnLawgmlHvVRHeMxmqRrSmfWzA6+u046rPvVsi8IDa\n",
              "W9s7NyMg6gtMO9Ix+Hyh6K0iFn1VbRTXtBJbOSurrYpuk+fpnOr1V3WB8v6kIW+r6GDWgAzy0QcF\n",
              "aKQuVMyu/dtumPFtByArWE33J53GSkiGk9o9S38ZR3gFBNUyZwgV0ZUGwApdqEsUor2BejqaaOPu\n",
              "qZGHdDfy9Yk1gF4jTk1DcMytXhzBx5KLdoUYcd91tZbdS9ZCLaRw1jZFDC54BmVR3n0DL8x3AAP7\n",
              "BGlqwkaeDM2jbxOCBzjVitCO1zcPCW9KIbhLDOPA19V69QsO4OxkueiKZxL+PqhaIG2wG514InIX\n",
              "u1iO/Jsn6NrkE2MDOa6e4b5jOIisH3P6BzUAAAAjQZ4dRRUsbwFgrftLulimSBWIgIABa0y2/wfg\n",
              "TmmjttwJKMEAAAAbAZ48dEX/ABKhKuJ3sDeaxAA3/240+nqFfeaAAAAAGwGePmpF/wEt8p3AXP3C\n",
              "ABKZJPbcfvW4qO7NeQAAAMFBmiFJqEFsmUwUTCf//fEADXi6cIAz4G9DkBk4s3xFDwINNHBUW5iz\n",
              "9eFoSvWqv2crE64m8kjEdUXUZebPOvyOzPFxkLYXDn0IW07ZZFW2rEVChlIYPXGSFO38JnSiz1+y\n",
              "c+38b9pkguESANzMH0q8I1IlMXXca0P4RZd4W8kDLdmLG7Zq9Vrus4CywEKrXY8Xb1TZJweBpACh\n",
              "XqoDy+Ob4/vOIQVI8k/JjjkJL5xNCUEmvAFWIB7XSQZrX+2Y6T5hAAAAHgGeQGpF/wG7FAhyGQAt\n",
              "3VBmJGyt6YXqjaVqbpx2SAAAAUhBmkRJ4QpSZTAhP/3xAANfzL+wADCALeRNDdJwhchK9CFCowLv\n",
              "p5Hx8cso3w+cD3UjuC8Adhe11XIDH13YeeydAAN7YJ/kXj7rLqvCPK62TzscsM24ZuXJ5WMQHC9x\n",
              "3NMNo7FgZ1ourLGMXta+G33t3Qp0mU40hnCe/29Tk53qNEOhvRIL/QkdAhY2dAaMKDtvAAUm6tv5\n",
              "wA1+OOzG1XICKg8UULqfb7UnIlU507jmA1R4LVsVrYnBVfIYisxihZkfydOZ2oQCoEY91Wc4Vbp8\n",
              "q9Z+t6NDX17VEP0X89ESh20i9aVnDQH3MiR6A31jbmD1uTNZSpMPgKeUA+g4wd+vUo5TXdbpzwOa\n",
              "0tof8NMg/Zd4g10RqPYE4o40s2Lays/qRDVFDvKVrCZlludHypS9LkXerMvkZAC/fI0Ph37w7IN0\n",
              "aVkbg/MnAAAAIkGeYkU0TF8BuRUiV2t8M8lxIA9kcQl0Gk3i9qQ0EUflOxgAAAAbAZ6DakX/ABHf\n",
              "SoWH6EzlgAXAfYea81D1ThPNAAABb0GaiEmoQWiZTAhP//3xAAZtVvwVg8vPQP3GUJZrpPNmBWGr\n",
              "XL8Oo1y8xhwSmgQfak4wZ4zupa35Z9ad53RVThqJShhUcRxLzQg2x7CH1z70dHs2/HEwUVcTLi/Q\n",
              "W1BZeMnSO3/scjfx9V+Ssf8HM8A6D2tWhwdS/GBQMIAI461dY9HigbpVPzAeIQ//rYcvlHkbj5er\n",
              "xjTW3D/rviXTF3btpGRXs8yreJhULWtMojuEo+rZCKJACw5yTOSskelBC8GBzPdCgbsDHq3aJUhu\n",
              "j1Mpi25hHUCkQyG+fwkpnfTT/aWw7IcJzsvSZzOkcRqOdnvJjhC9eT2NYPZ6rXE+bhDeJEmBzOls\n",
              "oKASu6mCYz5aTt1+6CnEFcfy+TA5owGqNnaegIJKf3X6CuQEXxuXDJL9ITK9+Q9RMQLINZKyI74C\n",
              "porLb4Sz3z5s3iXcI5Z4wrIDVqhuzF0n2QNX5PzTEj7ldlM/CPbLumI0fpaey5kAAAAkQZ6mRREs\n",
              "bwFgrZd9wncg3ME9oV9v2u8CAATQnGppnBRE/tZTAAAAGgGexXRF/wAR0kyLxb9OdgAfWI1ndrF7\n",
              "qWuZAAAAGgGex2pF/wBHfMrspn5gAA1H6odkJjWT6GjdAAABL0GazEmoQWyZTAhP//3xAAaVSnwH\n",
              "+Z4EQD0g27k939KPhOxNhlx/ys2W5CMGaFGrOZyvKZ4c59J9n8pot4D028MwkZcn5GzbkqSVxFD5\n",
              "Cts5e2Qb4RnIoUsuRsbSvppJ41gkFD8sVSiP/TUdeZcfMMkRLJs+yR9PT1+OukkjoesWIV9/LYxE\n",
              "mD5Vw9CORpt/Ao1iuiANByAlAUfcgN2xkdK7rHTx3CUGxeB3DtWe6luJq0E84l4M7klLVFBM6i1B\n",
              "hWO0DTz7QFEFtJ8Y1oxJigxOzmt8urbU//iJX0/1U9+I8SDe/3Te9ptCMq8U01/fOhbnFDWuhpxy\n",
              "qIyrS6MQaveMs336jxEL1u1f8SBMd+B1opz1wpVzXHh3f+ZbABfjUmToEkg8ywyonxY5SA07wAAA\n",
              "AD9BnupFFSxvAWCtpQZzmwAEpKTVRY6ctg/0BncmQKiCYI3SWPPxitSY7KDVzVg4NyuApBdm11hi\n",
              "JRnIh2mwTkEAAAAdAZ8JdEX/AImEZcWAD2pd5IQYCpMUz/4oJLLmWQQAAAAbAZ8LakX/AIquK4c0\n",
              "xgA95w/YUBRGuLOFMa9MAAAA4UGbD0moQWyZTAhH//3hAAT3WFu7V0BQpQ3uaYpyv+2hDTt/3urU\n",
              "GQOscUi71z0aUoICqSfyyzvwbgH5RcMb2yUIaB2bqj4tBu+xBnepNOonz202gCbBqGf2br+9q8Ha\n",
              "3ygzCPboTKX/C5Nvulp3SIXbHooHsfgGgG9qNWcBNu62fHsXX8H77IYg3LAavC3MMOU3pSkXNtSM\n",
              "tZaAzuYpctenA+R0dRWCWehfuDXpfr0Gprx0ys93FEwP1hTu/8bW3iJQe3uJYFVN/gpDa+2SCprA\n",
              "zbVCTAh8EXOS1gns4nZoJwAAACtBny1FFSxfAbkVIEeR0KBjNDeDozVMAIxv3xam5lhRgAVYyBpo\n",
              "eXjOaQRVAAAAHAGfTmpF/wAI77aMORZmZrCaABcBAGnYO/u7HFUAAAFwQZtSSahBbJlMCEf//eEA\n",
              "BP9jbwP5OQI7J9kcZ7hxQjc0fEc3ztBxnmFgcsr0Ofh+LXKuzpUB+GYIh0s0w5M2shZNISCah3bm\n",
              "kJRD0zaf2LbNngOoNsKubsMgQvlSpaN8gbOX1h2tTsxdjBYONmjlPp9cZ8CUDlxUqm7HMbdVklzk\n",
              "HBn70jmqaBrnSUtvBEmPCBVGUSokUKZibnG2sxkjJZXp+J3v/wv9scxQx/qRKJpu2UySzbf4lm4M\n",
              "pASAje86opXJUEk0YtzCzzFM8yIew2xqd3GYffmUkROrSUgWapFgXeO6ubSB37MBZcH0+rfvd37y\n",
              "817tTFkGtZah1P+mcdGGmBEtbXe3EdZEKlfSQJtMZnKQ7GuQH3zlhojvV3k5m2GYhEwxDIsGjhCK\n",
              "cpDIQBrjQi18jChRyMzhLuOYsRpwXUsa07WczlRa9P77A2xekgu7EWPiqaMxCHCRSkx66iLjAKGF\n",
              "LQbRu2Eis7zOsjgAAAAjQZ9wRRUsXwG5FSBYT9RqfdcZS7VicBSmQAS/KHJ/TbdaPhQAAAAbAZ+R\n",
              "akX/AEOVmBPGRM0kADjpGF2u6fhMc26rAAAAcEGbk0moQWyZTAhH//3hAAm3COExNS7WMAg8pkar\n",
              "CPPe50xLFeztSAcSVLMePZsKyTuDZOdG4dNm+oxLBrU1/5Qdq2+slhzunxnz0Al+UGCUzd935YXE\n",
              "98ZNe7Fk4IPNCda0TYfsYZxutzVZW4jtqLAAAAA/QZu0SeEKUmUwIT/98QAGIOXSsAmvlv11++vv\n",
              "KgNskMjuZT0tzbNbeMAa+Z7sZhRe3WNOkBy7bpOQ1nd04A9oAAABbUGb2EnhDomUwIT//fEABh1b\n",
              "fAFj+PDdynPRi0SP1rOStBtm3imPWdxIjlW973xj2yrXoiVDPKBUxfzpNr0tY1f8O0APpAwLCyUZ\n",
              "PVAbtYbBFzDlSAosuTnxqQ+6VF1VL7axZ3CHinnDmJyqxDq1/JL8t12ddarAy+2ZIr+nkBtAcupz\n",
              "2eAZPnbnQf/L4Avb2eRJP3sYboR3p0ajyQMYzr0JCLosPss0i1jV2zTOg2MOOUt4uPtPjvISCZE5\n",
              "7lg/qnzlNkSCDWikdUdS5/BcX1AEaZV1yhB+EYc1kpnOgMd0yExAdebHKieCmmY5PRp5eIqHCwKf\n",
              "k7rVaKlPImbfIAuIHKtWnSgBy2QOJ1Gh8xPhqlFyu4P3y8VSIhu+4oOdI0QvioolhNbsP4nMb/ZR\n",
              "4V2Loo9yeWRvhBcunwWTABAxHkEFLhtKGti23VkcdW0IS42piiHeBE/+9aYByrC8wyUfJDCyaG38\n",
              "MFk3sBT5AAAAIUGf9kURPG8BYK2kDQaB3GacqwBYTs2+VYIBZOZBAoJcKQAAABgBnhV0Rf8AgtNJ\n",
              "cxgA/aRzFCPqQOaN9IEAAAAZAZ4XakX/AAgqvdviwQHQAht6m83gzUtzMQAAAVBBmhxJqEFomUwI\n",
              "T//98QAC50/dABxZyw1WHwWmrikI5zoy8TurTwuN2WiR25eAJ0ygTHwfrR0KGxTxlshXTqozZHCk\n",
              "NowYSyj0BnbKI/nrlkH8WW/4znskhVDmZuh1RI407TKJlj93mXuX9rh2lBk0XK55TjfKUtSPDvXo\n",
              "YRfdf9CTnEDYmrgB9VYarf8ysKIjEsGGhof4FMm3CAsyvxNgNaudXRF2fGDnyeEbMFy5SqJsBoki\n",
              "65H3AFNrLGXecQemFARU/5mMfPWtoYrigieF9iyQtCI01sGxDCCsKdPcFtygPvyouK+q6swKd/NZ\n",
              "Qx9LeElbo5uHLkOFCxvSLzIBT/jqRwt0bG5RIE9Wa0Ajc7VY7lxY5t2kOvMNH8oRd78pVOrWKSR9\n",
              "STl0V9Bj+W3nCmOOi95RXq8Grlar9YqKm1Heuh8AmVR3Nw6a57PlZdAAAAAkQZ46RREsbwFgrZXc\n",
              "fLTRs3ZBCXLzL44hABoxr8yrsqJDFs8BAAAAGQGeWXRF/wAD+X6bskpEDgAlQTDVzL4oZAYAAAAb\n",
              "AZ5bakX/AD4t/KOBrN0wAOMkAEv85dUwPxMlAAAAf0GaXkmoQWyZTBRMJ//98QAFzpt8AWIXHXyz\n",
              "w6zpeKie/CIJdwCQero3iwNFLMFWgWgROnyKILbme55O0NHWhXBGO6egLAhzPqV+vmrd8dSGQKcn\n",
              "jVRbHNtOoFDP2LRchXrfk4avCh3qjWwUnXKPvH9vmwZIVxBpAb4lHL4GBRsAAAAaAZ59akX/AbsT\n",
              "vIxl5yAG635lpGT1WykABTAAAAFaQZpiSeEKUmUwIR/94QAJJ/XIAo45uXN03nZMBWyYeFaz9l9/\n",
              "gFr+XNLNOAtxAoQp/6goHFjA7EGRXca6tkFCl92Zc0RYZ3t1iwFJJG/A+1qPLUEyEXkY6reLzY9s\n",
              "QOy6CpaJJUkl1gguSmrjXtZ0fzRm8mIl8HC4ODFyotItWWOQPlQITf4/xqBHgC9k4E+QEftcKYxk\n",
              "cH88nbkrNi0r9xOn+WbW12fj/ibX5MfvQWidUIo5prEyEICvX3UChxG3C0vqK7UTcgbByc5qHC16\n",
              "fWm2aLZkX2JS6h+2Hrk4/T1s4KVr3iAEq6FYWFjEaLJz/Ezq/xM3A2+FUX34Wg9sdTtGQ0MQUa8l\n",
              "kWFWEL0fuFqKH988+ausG977OFyK+3FdZv3xQgLVbg7/Jtd15kj9xaLhGp32iCEFUdbTLaJ+SPS1\n",
              "YXcVR/s0FRPKxJzY2kofhpPBOzYPlAYfwAAAACBBnoBFNExvAWCtos0GWizb8B3Ih/OEcJX07ZZY\n",
              "35k8kQAAABoBnr90Rf8AfAsLYSaV+5gBL1Z3N7BQkXAqCAAAABwBnqFqRf8APOIYC5LxfewiAE0I\n",
              "9kezPftWQl3xAAABIEGapkmoQWiZTAhH//3hAAR72KnYvMzxoAqnCBdl8+MHflkYg3zUcbSURwki\n",
              "yc6IS47B22K1tN8IbwQBP7ELpuJ/wZw6FUvcknNik9ipX+doqDw03r/8eyi9ie5+KhImJK7BAGhg\n",
              "zdsoKi4H53KhlFtmcF+2dsPvtF88vI8KUG0nhzUlrGHYjFU5WsmvYAIx1avOxcOhYfyvrMtot4Fx\n",
              "zYlXvOA5ojtS/4bcO7cUqAJYksWvneIkCYtQjnzYxmUDy3Co9g95nU5TqXiT0Tccn9vXLmim6b49\n",
              "g1/vxrkJ8eDr/3MAr7T6aY/K/fa0ChusQ+jY+4HgRGOviBnXxJ0vfWSE96uQMSwIRQoPFIB0ATd5\n",
              "q+LisDdg/L5X3IclrqPbgAAAAChBnsRFESxvAWCtlYaQyEvTcjGMNjC1KVrtACDacssJeZ7NAHxr\n",
              "YdTJAAAAGwGe43RF/wA8vjR+66N7VnGoAP2jqGlNUXJTeQAAABsBnuVqRf8AHbbzAqAAcVFfUe+x\n",
              "2wRMsW9bakEAAABSQZrnSahBbJlMCEf//eEABFNyTr4OQAcrpMM0qxttXMmVvRPJfE9np//ZVUAY\n",
              "3HbSb1Q3mOkmHR8XtGyjyXE72GmNkotdmza65HNTanYLolmX/QAAAHFBmwlJ4QpSZTBRUsI//eEA\n",
              "BFeTohQAJE/OT2VA4Qre8PhKdEkgPt8DQdffeSTtVhbZhta0JIJPnEM8NU7uK/Y1A0Zc59AveTh3\n",
              "J6iJDvssLvhwkaa+NNm8akJSE1wnpRCf+GkSjoy0DdEX4WHtJLR2YAAAABkBnyhqRf8BuRUdC7DA\n",
              "ATHrvjo/3IuyI4ekAAAAz0GbK0nhDomUwUTH//yEABDajgAysn4pEMESVTg84KJ1szC/pa5yoJmD\n",
              "TncdIkLEsf7WXcD5EUhnGiLn3slkKtR5A+D0tYbh2T0cZKgOvm/eZOoT0gfGWpxE5TGfERx2326i\n",
              "Wzz2/SUBXmqnHmXZYLZCoY1YTmnAsgbQTq38N+qbAV6UX2Fn4nxfapu9r9YWtMUwkYei55xdMN1b\n",
              "lh+2pVRtIXEmXDNTxax2Onu7OrDowuFOelpE4fi/PHJWVZ4T4KY1Zgeukdxq2X8ErJmIsQAAABoB\n",
              "n0pqRf8BuRUcXXOpQJve7/gD2R8yZT+izAAAAFNBm0xJ4Q8mUwIR//3hAABDQMHQA4m7vdBBOlGV\n",
              "QasCaUlqgUHwHiuWLxCvsqRx212arWWSvlpskwYlCbP4zCxxvMyzbrycuZGnR3ds9Hpk9Z690AAA\n",
              "ACNBm21J4Q8mUwIR//3hAAAhkBFJkUtABvQQPY5CqenG+2O2YQAAAGRBm45J4Q8mUwIT//3xAAFI\n",
              "d0ssuUZffJADkhGrAncEs1Jf1f5NYCm39NYiIqhT7eQ+VUmTiLAvsC/MdBI5hUXnQ3o7XqmYDNJO\n",
              "jAqSravLawLZU7AoHTP4wCrGsM2dHYqzXY6HAAAA7UGbsknhDyZTAhH//eEABBteEGH0XDuXgC/1\n",
              "jquAi2ifnIfBnwvD/orMGFLbRj8ZQwjiS6UVwRu86SlFFnZmDgyhqFI7t2J3se1W0uM+W1Oi4C3x\n",
              "eLl/BMMYDILxw/Vdz5g8fKY0NSG74PjY5dJu+vjzC/7eY0Nnp67gnMYm+EyvV7HPF7RZ4uHeS+dp\n",
              "SftGHP4/cNBTceKjovx2regFhHhQ+9wXaMKRiKktKDXrQQCXj7orRM0N8681EBNQp3BnYSubrdOa\n",
              "aATYINRpdk+fZ9FXe4BBbDT2wtWyavHYWHIbosu7mxCc9eoy8F/xTQAAACBBn9BFETxvAWCtlKZn\n",
              "j178AE7Gx2sn3QZ6O5zQ5l0z4AAAABkBn+90Rf8AHFviwWQA3GQhn4PHj/amFBECAAAAGwGf8WpF\n",
              "/wA32He3lKrOABc50fH7LnGlvXKzdwAAAGBBm/NJqEFomUwIR//94QAEFsuPlADoDh3KKcoiTQnx\n",
              "uErLLljVkvMt6a0JamPJwpwkTosP0hojNbBdcyROkYnV5cuyECFvglkI2iwUOus7HygNNdy8nHZx\n",
              "S4BSvcAH8twAAAC2QZoVSeEKUmUwURLCP/3hAAP1S/dsl70AHSNJnB3XK5LRG7T+hGUmVQm7Cadt\n",
              "o9w7W9/myIXDxvVJEpAVjJWDX3vZIxdx04xFmAD1tfn0M4MllI9oGRcaioacbUL4OAe12WWYV00A\n",
              "q0bHi/sY5YuqLp/+OazTvhNxVt0Jm6Gmcplcr6Tq/shcF5R71CNsAAffr0omR0vgrMjqxLxVkK0k\n",
              "xGDJwdoAiYgmEYXJ3LhKeK79SylbTT4AAAAZAZ40akX/AbkVGx1zqUCcdTmD2xhPf8BsUwAAAF5B\n",
              "mjdJ4Q6JlMFEwn/98QAAUaoFaAIK1pE2jR8An5X9uQfTqHWdUdeB0aHz5+QmyIC2wfnhutvWzTBD\n",
              "8y0+1lokxcvJ0/BTiqcG9tIHebI2xeqMQNUwRSiFsdHzxqRYAAAAHgGeVmpF/wG5FQYsSQewPi00\n",
              "uoAW3UcgjenIaReioQAAAMNBmlpJ4Q8mUwIR//3hAAHwhaOQARkaTVPWDKhjImtkaCfqUaV6ZJze\n",
              "uLPsb7vabinU2RJughJSdcg3vzGyL0j3WCRSMsmdRJXPS7pHXwyYdaMcN2BCfW2evk0hBmmaGgQ3\n",
              "XcnTdjPKml3zyMp+SQnteMLTUka0e581lyDwkCYs4yyoZ+AOPmmDvkyaEIL6M0yiXLIfbbo4B251\n",
              "eS+y22VvRr7OG6SUv4iaC2RiwzQ0neP85oPsKS+dCmhxe2h68GlQ27UAAAAlQZ54RRE8XwG5FQ7G\n",
              "VqDLH7WC9n0ACdkjb028cDF1RhAhmxCKzAAAABsBnplqRf8AGwkZ1CgAHFQAUl/3mx9kdzDhXucA\n",
              "AAC1QZqeSahBaJlMCP/8hAAPPpyCUyp9AEe6DRDfOXrdsUULhJagsgxSiounj40ehyIWN3R0+tcA\n",
              "LCujttXRIav+PEyxlkjgW06kd7CkNj1Cwpti2QohkPHTF1aNUZHdvJRf2CE4t9sV0mIrn1NBZxXJ\n",
              "LuJvGhy85FXYBYzKV+XQYVjlY7wu2nLXl6msDNzU9lY9tU5bpMJDclhJIOaBq0Oo4w5Cq9vyKbkT\n",
              "EG51QgYO96PfPE1pOAAAACtBnrxFESxvAWCtlBGoAALgO0eXo4UEZdp3X7qBjN5r3/2COM8g0wcp\n",
              "rig5AAAAHgGe23RF/wA2NNEALGqfP6XGM7nJGRRMNLqSqFHiYQAAABwBnt1qRf8ANfpmHbr6LgA2\n",
              "p7m//i9Ke0wZPj9gAAAAVUGa30moQWyZTAhH//3hAAB59luFpkgBnoJDtpsNgk2TY4jXFDiqFAlS\n",
              "/AL7NoCsK/IzzHuJF/Ai8HLFdNGFwqZvoB6em55ulxxDh7CwgI/sYOTwygQAAAB9QZrjSeEKUmUw\n",
              "Iv/6WAAHGmdEAJqSN0kbc4Gkb4uThDwgR5IdOKDtrqYIP0+437wWosA7owDanA4e78ZpmQefWRPa\n",
              "3QyBivYxhUfx/D9Wbg/VzZB35ckCChE9SjwGvN7ALgy1S2fIRf7VOhsXptCvRSr6fUej7wvOOASe\n",
              "5sEAAAArQZ8BRTRMbwFgrZO9iRJBzPdrc4Q8t8xQACyDSbVZWGKTglK5lHWrQ08tXQAAABsBnyB0\n",
              "Rf8ANK9XZbGK+Ty31ABXmPImv/xQJV0AAAAcAZ8iakX/ADTSPJm+mjZAx22XYAPQjPVz9l8qugAA\n",
              "B6Ztb292AAAAbG12aGQAAAAAAAAAAAAAAAAAAAPoAAAD6AABAAABAAAAAAAAAAAAAAAAAQAAAAAA\n",
              "AAAAAAAAAAAAAAEAAAAAAAAAAAAAAAAAAEAAAAAAAAAAAAAAAAAAAAAAAAAAAAAAAAAAAAAAAAAC\n",
              "AAAG0HRyYWsAAABcdGtoZAAAAAMAAAAAAAAAAAAAAAEAAAAAAAAD6AAAAAAAAAAAAAAAAAAAAAAA\n",
              "AQAAAAAAAAAAAAAAAAAAAAEAAAAAAAAAAAAAAAAAAEAAAAABsAAAASAAAAAAACRlZHRzAAAAHGVs\n",
              "c3QAAAAAAAAAAQAAA+gAAAEAAAEAAAAABkhtZGlhAAAAIG1kaGQAAAAAAAAAAAAAAAAAADIAAAAy\n",
              "AFXEAAAAAAAtaGRscgAAAAAAAAAAdmlkZQAAAAAAAAAAAAAAAFZpZGVvSGFuZGxlcgAAAAXzbWlu\n",
              "ZgAAABR2bWhkAAAAAQAAAAAAAAAAAAAAJGRpbmYAAAAcZHJlZgAAAAAAAAABAAAADHVybCAAAAAB\n",
              "AAAFs3N0YmwAAACzc3RzZAAAAAAAAAABAAAAo2F2YzEAAAAAAAAAAQAAAAAAAAAAAAAAAAAAAAAB\n",
              "sAEgAEgAAABIAAAAAAAAAAEAAAAAAAAAAAAAAAAAAAAAAAAAAAAAAAAAAAAAAAAAAAAY//8AAAAx\n",
              "YXZjQwFkAB//4QAYZ2QAH6zZQbCWhAAAAwAEAAADAyA8YMZYAQAGaOvjyyLAAAAAHHV1aWRraEDy\n",
              "XyRPxbo5pRvPAyPzAAAAAAAAABhzdHRzAAAAAAAAAAEAAABkAAAAgAAAABRzdHNzAAAAAAAAAAEA\n",
              "AAABAAAC+GN0dHMAAAAAAAAAXQAAAAEAAAEAAAAAAQAAAYAAAAABAAAAgAAAAAEAAAKAAAAAAQAA\n",
              "AQAAAAABAAAAAAAAAAEAAACAAAAAAQAAAoAAAAABAAABAAAAAAEAAAAAAAAAAQAAAIAAAAABAAAB\n",
              "AAAAAAEAAAKAAAAAAQAAAQAAAAABAAAAAAAAAAEAAACAAAAAAQAAAoAAAAABAAABAAAAAAEAAAAA\n",
              "AAAAAQAAAIAAAAABAAACgAAAAAEAAAEAAAAAAQAAAAAAAAABAAAAgAAAAAEAAAKAAAAAAQAAAQAA\n",
              "AAABAAAAAAAAAAEAAACAAAAAAQAAAoAAAAABAAABAAAAAAEAAAAAAAAAAQAAAIAAAAABAAABgAAA\n",
              "AAEAAACAAAAAAQAAAgAAAAACAAAAgAAAAAEAAAKAAAAAAQAAAQAAAAABAAAAAAAAAAEAAACAAAAA\n",
              "AQAAAoAAAAABAAABAAAAAAEAAAAAAAAAAQAAAIAAAAABAAACAAAAAAIAAACAAAAAAQAAAgAAAAAC\n",
              "AAAAgAAAAAIAAAEAAAAAAQAAAoAAAAABAAABAAAAAAEAAAAAAAAAAQAAAIAAAAABAAACgAAAAAEA\n",
              "AAEAAAAAAQAAAAAAAAABAAAAgAAAAAEAAAGAAAAAAQAAAIAAAAABAAACgAAAAAEAAAEAAAAAAQAA\n",
              "AAAAAAABAAAAgAAAAAEAAAKAAAAAAQAAAQAAAAABAAAAAAAAAAEAAACAAAAAAQAAAQAAAAABAAAB\n",
              "gAAAAAEAAACAAAAAAQAAAYAAAAABAAAAgAAAAAMAAAEAAAAAAQAAAoAAAAABAAABAAAAAAEAAAAA\n",
              "AAAAAQAAAIAAAAABAAABAAAAAAEAAAGAAAAAAQAAAIAAAAABAAABgAAAAAEAAACAAAAAAQAAAgAA\n",
              "AAACAAAAgAAAAAEAAAKAAAAAAQAAAQAAAAABAAAAAAAAAAEAAACAAAAAAQAAAQAAAAABAAACgAAA\n",
              "AAEAAAEAAAAAAQAAAAAAAAABAAAAgAAAABxzdHNjAAAAAAAAAAEAAAABAAAAZAAAAAEAAAGkc3Rz\n",
              "egAAAAAAAAAAAAAAZAAADfsAAAHUAAAARwAAAfAAAABPAAAAMAAAADQAAAGoAAAANwAAAC4AAAAp\n",
              "AAAAxQAAAZAAAAArAAAAIAAAABoAAAGKAAAAKwAAABcAAAAiAAABdQAAAC4AAAAlAAAAHwAAAWgA\n",
              "AAApAAAAHwAAACAAAAHMAAAAJwAAAB8AAAAfAAAAxQAAACIAAAFMAAAAJgAAAB8AAAFzAAAAKAAA\n",
              "AB4AAAAeAAABMwAAAEMAAAAhAAAAHwAAAOUAAAAvAAAAIAAAAXQAAAAnAAAAHwAAAHQAAABDAAAB\n",
              "cQAAACUAAAAcAAAAHQAAAVQAAAAoAAAAHQAAAB8AAACDAAAAHgAAAV4AAAAkAAAAHgAAACAAAAEk\n",
              "AAAALAAAAB8AAAAfAAAAVgAAAHUAAAAdAAAA0wAAAB4AAABXAAAAJwAAAGgAAADxAAAAJAAAAB0A\n",
              "AAAfAAAAZAAAALoAAAAdAAAAYgAAACIAAADHAAAAKQAAAB8AAAC5AAAALwAAACIAAAAgAAAAWQAA\n",
              "AIEAAAAvAAAAHwAAACAAAAAUc3RjbwAAAAAAAAABAAAALAAAAGJ1ZHRhAAAAWm1ldGEAAAAAAAAA\n",
              "IWhkbHIAAAAAAAAAAG1kaXJhcHBsAAAAAAAAAAAAAAAALWlsc3QAAAAlqXRvbwAAAB1kYXRhAAAA\n",
              "AQAAAABMYXZmNTcuODMuMTAw\n",
              "\">\n",
              "  Your browser does not support the video tag.\n",
              "</video>"
            ],
            "text/plain": [
              "<IPython.core.display.HTML object>"
            ]
          },
          "metadata": {
            "tags": []
          },
          "execution_count": 23
        },
        {
          "output_type": "display_data",
          "data": {
            "image/png": "[encoded data removed]",
            "text/plain": [
              "<Figure size 432x288 with 1 Axes>"
            ]
          },
          "metadata": {
            "tags": []
          }
        }
      ]
    },
    {
      "cell_type": "markdown",
      "metadata": {
        "id": "D7RfN6i4F2UH",
        "colab_type": "text"
      },
      "source": [
        "##LEGRANGIAN METHOD for COMPLEX MOVEMENT"
      ]
    },
    {
      "cell_type": "markdown",
      "metadata": {
        "id": "DTYMD9S1F-_c",
        "colab_type": "text"
      },
      "source": [
        "라그랑지안 방법을 사용하면 복잡한 움직임을 보다 쉽게 물체의 움직임을 나타낼수있다.\n",
        "2차 미방을 수치적인 방법을 통해서 풀수있다."
      ]
    },
    {
      "cell_type": "code",
      "metadata": {
        "id": "XndrpBK-Ckoy",
        "colab_type": "code",
        "colab": {}
      },
      "source": [
        "#참고적으로 찾아본 방법\n",
        "#Program Of Runge-Kutta 4th Order\n",
        "from math import *\n",
        "\n",
        "def f(t,y):\n",
        "    return sin(y**t)\n",
        "def main():\n",
        "    t0,y0=float(input(\"initial time:\")),float(input(\"initial value:\"))\n",
        "    h=float(input(\"interval size:\"))\n",
        "    t=float(input(\"terminal time:\"))\n",
        "    print(\"t\\ty\\n\",'_'*16)\n",
        "    while t0<t:\n",
        "        k1=h*f(t0,y0)\n",
        "        k2=h*f(t0+h/2.,y0+k1/2.)\n",
        "        k3=h*f(t0+h/2.,y0+k2/2.)\n",
        "        k4=h*f(t0+h,y0+k3)\n",
        "        y1,t1=y0+h/6.*(k1+(2*k2)+(2*k3)+k4),t0+h\n",
        "        print(\"%.4f\\t%.4f\"%(t1,y1))\n",
        "        t0,y0=t1,y1\n",
        "main()\n"
      ],
      "execution_count": 0,
      "outputs": []
    },
    {
      "cell_type": "code",
      "metadata": {
        "id": "8dT2sd03GlRs",
        "colab_type": "code",
        "outputId": "681290b1-b279-4b7a-c3ef-86cbc34fc8ef",
        "colab": {
          "base_uri": "https://localhost:8080/",
          "height": 283
        }
      },
      "source": [
        "#single pendulum\n",
        "import matplotlib.pyplot as plt\n",
        "import scipy.integrate as integrate\n",
        "import numpy as np\n",
        "\n",
        "from numpy import pi,sin,cos\n",
        "\n",
        "\n",
        "G=9.8\n",
        "L=1\n",
        "b=0.5\n",
        "m=1\n",
        "def simple_pe(state,t):\n",
        "    dxdt=np.zeros_like(state)\n",
        "    dxdt[0]=state[1]\n",
        "    dxdt[1]=(-b/m)*state[1]-G/L*sin(state[0])\n",
        "    return dxdt\n",
        "\n",
        "ini_theta=30\n",
        "ini_omega=0\n",
        "\n",
        "state=np.radians([ini_theta,ini_omega])\n",
        "\n",
        "dt=0.05\n",
        "t=np.arange(0,20,dt)\n",
        "\n",
        "INT=integrate.odeint(simple_pe,state,t)\n",
        "x=L*sin(INT[:,0])\n",
        "y=-L*cos(INT[:,0])\n",
        "\n",
        "dxdt=L*cos(INT[:,0])*INT[:,1]\n",
        "dydt=L*sin(INT[:,0])*INT[:,1]\n",
        "plt.figure(\"dxdt,x\")\n",
        "plt.plot(dxdt,x)\n",
        "plt.show(\"dxdt,x\")\n",
        "\n",
        "\n"
      ],
      "execution_count": 0,
      "outputs": [
        {
          "output_type": "execute_result",
          "data": {
            "text/plain": [
              "[<matplotlib.lines.Line2D at 0x7fec0e835ac8>]"
            ]
          },
          "metadata": {
            "tags": []
          },
          "execution_count": 18
        },
        {
          "output_type": "display_data",
          "data": {
            "image/png": "[encoded data removed]",
            "text/plain": [
              "<Figure size 432x288 with 1 Axes>"
            ]
          },
          "metadata": {
            "tags": []
          }
        }
      ]
    },
    {
      "cell_type": "markdown",
      "metadata": {
        "id": "rxhAyUW-mGCz",
        "colab_type": "text"
      },
      "source": [
        "# 파이썬을 제대로 공부해보자\n",
        "\n",
        "\n",
        "---\n",
        "\n",
        "\n",
        "cf:[wiki docs](https://wikidocs.net/17684)\n",
        "\n",
        "cf:[school webs](http://schoolofweb.net/blog/posts/파이썬-퍼스트클래스-함수-first-class-function/)\n",
        "\n",
        "\n",
        "---\n",
        "\n",
        "\n",
        "> **추천 에디터**  : \n",
        "*   비주얼 스투디오(visual studio)\n",
        "*   파이참(pycharm)\n",
        "\n",
        "\n",
        "\n",
        "\n",
        "\n",
        "\n"
      ]
    },
    {
      "cell_type": "markdown",
      "metadata": {
        "id": "sKC0azZWt6Bn",
        "colab_type": "text"
      },
      "source": [
        "\n",
        "## **wikidocs 점프투 파이썬** \n"
      ]
    },
    {
      "cell_type": "markdown",
      "metadata": {
        "id": "3WJsTq04uh_r",
        "colab_type": "text"
      },
      "source": [
        "### 02-2 문자열 자료형\n",
        ">이스케이프 코드 \n",
        "* \\n\t문자열 안에서 줄을 바꿀 때 사용\n",
        "* \\t\t문자열 사이에 탭 간격을 줄 때 사용\n",
        "* \\\\\t문자 \\를 그대로 표현할 때 사용\n",
        "* \\'\t작은따옴표(')를 그대로 표현할 때 사용\n",
        "* \\\"\t큰따옴표(\")를 그대로 표현할 때 사용\n",
        "* \\r\t캐리지 리턴(줄 바꿈 문자, 현재 커서를 가장 앞으로 이동)\n",
        "* \\f\t폼 피드(줄 바꿈 문자, 현재 커서를 다음 줄로 이동)\n",
        "* \\a\t벨 소리(출력할 때 PC 스피커에서 '삑' 소리가 난다)\n",
        "* \\b\t백 스페이스\n",
        "* \\000\t널 문자\n",
        "\n"
      ]
    },
    {
      "cell_type": "code",
      "metadata": {
        "id": "q-DAgX-BpEwK",
        "colab_type": "code",
        "outputId": "3ce7a385-f64c-4c64-dd94-ecc41e10ed82",
        "colab": {
          "base_uri": "https://localhost:8080/",
          "height": 125
        }
      },
      "source": [
        "\n",
        "ec_code=['\\\"change line\" \\n',\n",
        "         '\\\"tab\\\"\\t',\n",
        "         '\\\"bell sound\\\"\\a',\n",
        "         '\\\"back space\\\"\\b\\b\\b'\n",
        "         '\\\"null word\\\"\\000']\n",
        "for ec in ec_code:\n",
        "    print(\"\\'\"'hello priend',ec, 'How are you'\"\\'\")\n"
      ],
      "execution_count": 0,
      "outputs": [
        {
          "output_type": "stream",
          "text": [
            "'hello priend \"change line\" \n",
            " How are you'\n",
            "'hello priend \"tab\"\t How are you'\n",
            "'hello priend \"bell sound\"\u0007 How are you'\n",
            "'hello priend \"back space\"\b\b\b\"null word\"\u0000 How are you'\n",
            "'hello priend \"form feed\"\f and \fthen\f\f\f\f How are you'\n"
          ],
          "name": "stdout"
        }
      ]
    },
    {
      "cell_type": "markdown",
      "metadata": {
        "id": "EKYFQsTRuzNi",
        "colab_type": "text"
      },
      "source": [
        "**format 함수를 이용한 문자 포메팅과 함수**\n"
      ]
    },
    {
      "cell_type": "code",
      "metadata": {
        "id": "0WvmsQZpvdhK",
        "colab_type": "code",
        "outputId": "729f3a0d-71b5-44aa-85f7-585e179e673d",
        "colab": {
          "base_uri": "https://localhost:8080/",
          "height": 53
        }
      },
      "source": [
        "a=f'\\'{0:^10}\\''\n",
        "b=f'{\"hi\"*10:*^30}' # :< 왼쪽 정렬, :>오른쪽 정렬 :^가운데 정렬\n",
        "print(a)\n",
        "print(b)"
      ],
      "execution_count": 0,
      "outputs": [
        {
          "output_type": "stream",
          "text": [
            "'    0     '\n",
            "*****hihihihihihihihihihi*****\n"
          ],
          "name": "stdout"
        }
      ]
    },
    {
      "cell_type": "code",
      "metadata": {
        "id": "quaz-Hh6yAf2",
        "colab_type": "code",
        "outputId": "3644f153-7379-4311-b54e-6a01bb789b24",
        "colab": {
          "base_uri": "https://localhost:8080/",
          "height": 35
        }
      },
      "source": [
        "#문자열관련 함수들\n",
        "'''\n",
        "문자의 수를 세어주는 count\n",
        "특정한 문자를 찾아주는 find\n",
        "'''\n",
        "cont= 'I have a dream a sing to song\\nI can see the wonder'\n",
        "find=cont.find('have')  #포함하는 글자중 제일 처음\n",
        "index=cont.index(' ')   #잘못하면 에러남\n"
      ],
      "execution_count": 0,
      "outputs": [
        {
          "output_type": "stream",
          "text": [
            "1 1 1\n"
          ],
          "name": "stdout"
        }
      ]
    },
    {
      "cell_type": "markdown",
      "metadata": {
        "id": "6Bc2SJJh0Es2",
        "colab_type": "text"
      },
      "source": [
        "마지막 공부한 곳 https://wikidocs.net/13 upper 부분"
      ]
    },
    {
      "cell_type": "markdown",
      "metadata": {
        "id": "65_wje_q30BW",
        "colab_type": "text"
      },
      "source": [
        "# 코딩 조각들 모음"
      ]
    },
    {
      "cell_type": "markdown",
      "metadata": {
        "id": "YdllicIc4Ezi",
        "colab_type": "text"
      },
      "source": [
        "##이중으로된 반복문 빠져나가기"
      ]
    },
    {
      "cell_type": "code",
      "metadata": {
        "id": "EGAupWRs5A1c",
        "colab_type": "code",
        "colab": {}
      },
      "source": [
        "#이중으로 된 반복문을 특별한 goto, if, 변수없이 중단하는 방법이다.\n",
        "#실행하는 개수가 많을때 쓸만할꺼 같다.\n",
        "for i in range(5000):\n",
        "    for j in range(3000):\n",
        "        if j > 1000:\n",
        "           break\n",
        "    else: \n",
        "        continue # no break encountered\n",
        "    break"
      ],
      "execution_count": 0,
      "outputs": []
    }
  ]
}